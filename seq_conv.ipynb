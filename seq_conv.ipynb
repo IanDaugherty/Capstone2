{
 "metadata": {
  "language_info": {
   "codemirror_mode": {
    "name": "ipython",
    "version": 3
   },
   "file_extension": ".py",
   "mimetype": "text/x-python",
   "name": "python",
   "nbconvert_exporter": "python",
   "pygments_lexer": "ipython3",
   "version": "3.7.9-final"
  },
  "orig_nbformat": 2,
  "kernelspec": {
   "name": "python3",
   "display_name": "Python 3.7.9 64-bit ('tf': conda)",
   "metadata": {
    "interpreter": {
     "hash": "1d0891ab34821370daab934c4cb7710124cf36e69e82f6e017a5c665d1619cd9"
    }
   }
  }
 },
 "nbformat": 4,
 "nbformat_minor": 2,
 "cells": [
  {
   "cell_type": "code",
   "execution_count": 2,
   "metadata": {},
   "outputs": [],
   "source": [
    "import tensorflow.keras.layers as Layers\n",
    "#import tensorflow.keras.activations as Actications\n",
    "import tensorflow.keras.models as Models\n",
    "import tensorflow.keras.optimizers as Optimizer\n",
    "import tensorflow.keras.metrics as Metrics\n",
    "import tensorflow.keras.utils as Utils\n",
    "import tensorflow.keras.callbacks as Callbacks\n",
    "#from tensorflow.python.keras.utils.vis_utils import model_to_dot\n",
    "import os\n",
    "#import matplotlib.pyplot as plot\n",
    "import cv2\n",
    "import numpy as np\n",
    "from sklearn.utils import shuffle\n",
    "#from sklearn.metrics import confusion_matrix as CM\n",
    "#from random import randint\n",
    "#from IPython.display import SVG"
   ]
  },
  {
   "cell_type": "code",
   "execution_count": 7,
   "metadata": {},
   "outputs": [],
   "source": [
    "os.environ['TF_FORCE_GPU_ALLOW_GROWTH'] = 'true'"
   ]
  },
  {
   "cell_type": "code",
   "execution_count": 8,
   "metadata": {},
   "outputs": [],
   "source": [
    "def get_images(directory):\n",
    "    Images = []\n",
    "    Labels = []  # 0 for Building , 1 for forest, 2 for glacier, 3 for mountain, 4 for Sea , 5 for Street\n",
    "    label = 0\n",
    "    \n",
    "    for labels in os.listdir(directory): #Main Directory where each class label is present as folder name.\n",
    "        if labels == 'glacier': #Folder contain Glacier Images get the '2' class label.\n",
    "            label = 2\n",
    "        elif labels == 'sea':\n",
    "            label = 4\n",
    "        elif labels == 'buildings':\n",
    "            label = 0\n",
    "        elif labels == 'forest':\n",
    "            label = 1\n",
    "        elif labels == 'street':\n",
    "            label = 5\n",
    "        elif labels == 'mountain':\n",
    "            label = 3\n",
    "        \n",
    "        for image_file in os.listdir(directory+labels): #Extracting the file name of the image from Class Label folder\n",
    "            image = cv2.imread(directory+labels+r'/'+image_file) #Reading the image (OpenCV)\n",
    "            image = cv2.resize(image,(150,150)) #Resize the image, Some images are different sizes. (Resizing is very Important)\n",
    "            Images.append(image)\n",
    "            Labels.append(label)\n",
    "\n",
    "    return shuffle(Images,Labels,random_state=817328462) #Shuffle the dataset you just prepared.\n",
    "\n",
    "def get_classlabel(class_code):\n",
    "    labels = {2:'glacier', 4:'sea', 0:'buildings', 1:'forest', 5:'street', 3:'mountain'}\n",
    "    \n",
    "    return labels[class_code]"
   ]
  },
  {
   "cell_type": "code",
   "execution_count": 9,
   "metadata": {},
   "outputs": [],
   "source": [
    "Images, Labels = get_images('../archive/seg_train/seg_train/') #Extract the training images from the folders.\n",
    "\n",
    "Images = np.array(Images) #converting the list of images to numpy array.\n",
    "Labels = np.array(Labels)"
   ]
  },
  {
   "cell_type": "code",
   "execution_count": 18,
   "metadata": {},
   "outputs": [],
   "source": [
    "# test_images, test_labels = get_images('../archive/seg_test/seg_test/')\n",
    "# test_images = np.array(test_images)\n",
    "# test_labels = np.array(test_labels)"
   ]
  },
  {
   "cell_type": "code",
   "execution_count": null,
   "metadata": {},
   "outputs": [],
   "source": []
  },
  {
   "cell_type": "code",
   "execution_count": 10,
   "metadata": {},
   "outputs": [],
   "source": [
    "#get current working directory path + log dir\n",
    "root_logdir = os.path.join(os.curdir, \"my_logs\")\n",
    "\n",
    "#returns a file path of the ending in the current time down to seconds\n",
    "def get_run_logdir():\n",
    "    import time\n",
    "    run_id = time.strftime(\"run_%Y_%m_%d-%H_%M_%S\")\n",
    "    return os.path.join(root_logdir, run_id)"
   ]
  },
  {
   "cell_type": "code",
   "execution_count": 36,
   "metadata": {},
   "outputs": [
    {
     "output_type": "stream",
     "name": "stdout",
     "text": [
      "Model: \"sequential_14\"\n_________________________________________________________________\nLayer (type)                 Output Shape              Param #   \n=================================================================\nconv2d_74 (Conv2D)           (None, 150, 150, 16)      448       \n_________________________________________________________________\nmax_pooling2d_46 (MaxPooling (None, 75, 75, 16)        0         \n_________________________________________________________________\nconv2d_75 (Conv2D)           (None, 75, 75, 32)        4640      \n_________________________________________________________________\nmax_pooling2d_47 (MaxPooling (None, 38, 38, 32)        0         \n_________________________________________________________________\nconv2d_76 (Conv2D)           (None, 38, 38, 64)        18496     \n_________________________________________________________________\nmax_pooling2d_48 (MaxPooling (None, 19, 19, 64)        0         \n_________________________________________________________________\nflatten_14 (Flatten)         (None, 23104)             0         \n_________________________________________________________________\ndense_41 (Dense)             (None, 64)                1478720   \n_________________________________________________________________\ndense_42 (Dense)             (None, 32)                2080      \n_________________________________________________________________\ndense_43 (Dense)             (None, 6)                 198       \n=================================================================\nTotal params: 1,504,582\nTrainable params: 1,504,582\nNon-trainable params: 0\n_________________________________________________________________\n"
     ]
    }
   ],
   "source": [
    "model_1 = Models.Sequential()\n",
    "\n",
    "model_1.add(Layers.Conv2D(16,kernel_size=(3,3),activation='relu',input_shape=(150,150,3), padding=\"same\"))\n",
    "model_1.add(Layers.MaxPool2D((2,2), strides=2, padding=\"same\"))\n",
    "\n",
    "model_1.add(Layers.Conv2D(32,kernel_size=(3,3),activation='relu', padding=\"same\"))\n",
    "model_1.add(Layers.MaxPool2D((2,2), strides=2, padding=\"same\"))\n",
    "\n",
    "model_1.add(Layers.Conv2D(64,kernel_size=(3,3),activation='relu', padding=\"same\"))\n",
    "model_1.add(Layers.MaxPool2D((2,2), strides=2, padding=\"same\"))\n",
    "\n",
    "model_1.add(Layers.Flatten())\n",
    "\n",
    "model_1.add(Layers.Dense(64,activation='relu'))\n",
    "model.add(Layers.Dropout(rate=0.5))\n",
    "model_1.add(Layers.Dense(32,activation='relu'))\n",
    "model.add(Layers.Dropout(rate=0.5))\n",
    "model_1.add(Layers.Dense(6,activation='softmax'))\n",
    "\n",
    "model_1.compile(optimizer=Optimizer.Adam(lr=0.0001),loss='sparse_categorical_crossentropy',metrics=['accuracy'])\n",
    "\n",
    "model_1.summary()"
   ]
  },
  {
   "cell_type": "code",
   "execution_count": 37,
   "metadata": {},
   "outputs": [
    {
     "output_type": "stream",
     "name": "stdout",
     "text": [
      "Train on 11227 samples, validate on 2807 samples\n",
      "Epoch 1/25\n",
      "11227/11227 [==============================] - 5s 446us/sample - loss: 3.2204 - accuracy: 0.5103 - val_loss: 1.3240 - val_accuracy: 0.6003\n",
      "Epoch 2/25\n",
      "11227/11227 [==============================] - 4s 389us/sample - loss: 1.0719 - accuracy: 0.6478 - val_loss: 1.0201 - val_accuracy: 0.6534\n",
      "Epoch 3/25\n",
      " 4768/11227 [===========>..................] - ETA: 2s - loss: 0.7447 - accuracy: 0.7365"
     ]
    },
    {
     "output_type": "error",
     "ename": "KeyboardInterrupt",
     "evalue": "",
     "traceback": [
      "\u001b[1;31m---------------------------------------------------------------------------\u001b[0m",
      "\u001b[1;31mKeyboardInterrupt\u001b[0m                         Traceback (most recent call last)",
      "\u001b[1;32m<ipython-input-37-abe66aa8e52b>\u001b[0m in \u001b[0;36m<module>\u001b[1;34m\u001b[0m\n\u001b[0;32m      6\u001b[0m                     \u001b[0mepochs\u001b[0m\u001b[1;33m=\u001b[0m\u001b[1;36m25\u001b[0m\u001b[1;33m,\u001b[0m\u001b[1;33m\u001b[0m\u001b[1;33m\u001b[0m\u001b[0m\n\u001b[0;32m      7\u001b[0m                     \u001b[0mvalidation_split\u001b[0m \u001b[1;33m=\u001b[0m \u001b[1;36m0.2\u001b[0m\u001b[1;33m,\u001b[0m\u001b[1;33m\u001b[0m\u001b[1;33m\u001b[0m\u001b[0m\n\u001b[1;32m----> 8\u001b[1;33m                     callbacks=[tensorboard_cb])\n\u001b[0m",
      "\u001b[1;32mD:\\Anaconda3\\envs\\tf\\lib\\site-packages\\tensorflow_core\\python\\keras\\engine\\training.py\u001b[0m in \u001b[0;36mfit\u001b[1;34m(self, x, y, batch_size, epochs, verbose, callbacks, validation_split, validation_data, shuffle, class_weight, sample_weight, initial_epoch, steps_per_epoch, validation_steps, validation_freq, max_queue_size, workers, use_multiprocessing, **kwargs)\u001b[0m\n\u001b[0;32m    817\u001b[0m         \u001b[0mmax_queue_size\u001b[0m\u001b[1;33m=\u001b[0m\u001b[0mmax_queue_size\u001b[0m\u001b[1;33m,\u001b[0m\u001b[1;33m\u001b[0m\u001b[1;33m\u001b[0m\u001b[0m\n\u001b[0;32m    818\u001b[0m         \u001b[0mworkers\u001b[0m\u001b[1;33m=\u001b[0m\u001b[0mworkers\u001b[0m\u001b[1;33m,\u001b[0m\u001b[1;33m\u001b[0m\u001b[1;33m\u001b[0m\u001b[0m\n\u001b[1;32m--> 819\u001b[1;33m         use_multiprocessing=use_multiprocessing)\n\u001b[0m\u001b[0;32m    820\u001b[0m \u001b[1;33m\u001b[0m\u001b[0m\n\u001b[0;32m    821\u001b[0m   def evaluate(self,\n",
      "\u001b[1;32mD:\\Anaconda3\\envs\\tf\\lib\\site-packages\\tensorflow_core\\python\\keras\\engine\\training_v2.py\u001b[0m in \u001b[0;36mfit\u001b[1;34m(self, model, x, y, batch_size, epochs, verbose, callbacks, validation_split, validation_data, shuffle, class_weight, sample_weight, initial_epoch, steps_per_epoch, validation_steps, validation_freq, max_queue_size, workers, use_multiprocessing, **kwargs)\u001b[0m\n\u001b[0;32m    340\u001b[0m                 \u001b[0mmode\u001b[0m\u001b[1;33m=\u001b[0m\u001b[0mModeKeys\u001b[0m\u001b[1;33m.\u001b[0m\u001b[0mTRAIN\u001b[0m\u001b[1;33m,\u001b[0m\u001b[1;33m\u001b[0m\u001b[1;33m\u001b[0m\u001b[0m\n\u001b[0;32m    341\u001b[0m                 \u001b[0mtraining_context\u001b[0m\u001b[1;33m=\u001b[0m\u001b[0mtraining_context\u001b[0m\u001b[1;33m,\u001b[0m\u001b[1;33m\u001b[0m\u001b[1;33m\u001b[0m\u001b[0m\n\u001b[1;32m--> 342\u001b[1;33m                 total_epochs=epochs)\n\u001b[0m\u001b[0;32m    343\u001b[0m             \u001b[0mcbks\u001b[0m\u001b[1;33m.\u001b[0m\u001b[0mmake_logs\u001b[0m\u001b[1;33m(\u001b[0m\u001b[0mmodel\u001b[0m\u001b[1;33m,\u001b[0m \u001b[0mepoch_logs\u001b[0m\u001b[1;33m,\u001b[0m \u001b[0mtraining_result\u001b[0m\u001b[1;33m,\u001b[0m \u001b[0mModeKeys\u001b[0m\u001b[1;33m.\u001b[0m\u001b[0mTRAIN\u001b[0m\u001b[1;33m)\u001b[0m\u001b[1;33m\u001b[0m\u001b[1;33m\u001b[0m\u001b[0m\n\u001b[0;32m    344\u001b[0m \u001b[1;33m\u001b[0m\u001b[0m\n",
      "\u001b[1;32mD:\\Anaconda3\\envs\\tf\\lib\\site-packages\\tensorflow_core\\python\\keras\\engine\\training_v2.py\u001b[0m in \u001b[0;36mrun_one_epoch\u001b[1;34m(model, iterator, execution_function, dataset_size, batch_size, strategy, steps_per_epoch, num_samples, mode, training_context, total_epochs)\u001b[0m\n\u001b[0;32m    126\u001b[0m         step=step, mode=mode, size=current_batch_size) as batch_logs:\n\u001b[0;32m    127\u001b[0m       \u001b[1;32mtry\u001b[0m\u001b[1;33m:\u001b[0m\u001b[1;33m\u001b[0m\u001b[1;33m\u001b[0m\u001b[0m\n\u001b[1;32m--> 128\u001b[1;33m         \u001b[0mbatch_outs\u001b[0m \u001b[1;33m=\u001b[0m \u001b[0mexecution_function\u001b[0m\u001b[1;33m(\u001b[0m\u001b[0miterator\u001b[0m\u001b[1;33m)\u001b[0m\u001b[1;33m\u001b[0m\u001b[1;33m\u001b[0m\u001b[0m\n\u001b[0m\u001b[0;32m    129\u001b[0m       \u001b[1;32mexcept\u001b[0m \u001b[1;33m(\u001b[0m\u001b[0mStopIteration\u001b[0m\u001b[1;33m,\u001b[0m \u001b[0merrors\u001b[0m\u001b[1;33m.\u001b[0m\u001b[0mOutOfRangeError\u001b[0m\u001b[1;33m)\u001b[0m\u001b[1;33m:\u001b[0m\u001b[1;33m\u001b[0m\u001b[1;33m\u001b[0m\u001b[0m\n\u001b[0;32m    130\u001b[0m         \u001b[1;31m# TODO(kaftan): File bug about tf function and errors.OutOfRangeError?\u001b[0m\u001b[1;33m\u001b[0m\u001b[1;33m\u001b[0m\u001b[1;33m\u001b[0m\u001b[0m\n",
      "\u001b[1;32mD:\\Anaconda3\\envs\\tf\\lib\\site-packages\\tensorflow_core\\python\\keras\\engine\\training_v2_utils.py\u001b[0m in \u001b[0;36mexecution_function\u001b[1;34m(input_fn)\u001b[0m\n\u001b[0;32m     96\u001b[0m     \u001b[1;31m# `numpy` translates Tensors to values in Eager mode.\u001b[0m\u001b[1;33m\u001b[0m\u001b[1;33m\u001b[0m\u001b[1;33m\u001b[0m\u001b[0m\n\u001b[0;32m     97\u001b[0m     return nest.map_structure(_non_none_constant_value,\n\u001b[1;32m---> 98\u001b[1;33m                               distributed_function(input_fn))\n\u001b[0m\u001b[0;32m     99\u001b[0m \u001b[1;33m\u001b[0m\u001b[0m\n\u001b[0;32m    100\u001b[0m   \u001b[1;32mreturn\u001b[0m \u001b[0mexecution_function\u001b[0m\u001b[1;33m\u001b[0m\u001b[1;33m\u001b[0m\u001b[0m\n",
      "\u001b[1;32mD:\\Anaconda3\\envs\\tf\\lib\\site-packages\\tensorflow_core\\python\\util\\nest.py\u001b[0m in \u001b[0;36mmap_structure\u001b[1;34m(func, *structure, **kwargs)\u001b[0m\n\u001b[0;32m    566\u001b[0m \u001b[1;33m\u001b[0m\u001b[0m\n\u001b[0;32m    567\u001b[0m   return pack_sequence_as(\n\u001b[1;32m--> 568\u001b[1;33m       \u001b[0mstructure\u001b[0m\u001b[1;33m[\u001b[0m\u001b[1;36m0\u001b[0m\u001b[1;33m]\u001b[0m\u001b[1;33m,\u001b[0m \u001b[1;33m[\u001b[0m\u001b[0mfunc\u001b[0m\u001b[1;33m(\u001b[0m\u001b[1;33m*\u001b[0m\u001b[0mx\u001b[0m\u001b[1;33m)\u001b[0m \u001b[1;32mfor\u001b[0m \u001b[0mx\u001b[0m \u001b[1;32min\u001b[0m \u001b[0mentries\u001b[0m\u001b[1;33m]\u001b[0m\u001b[1;33m,\u001b[0m\u001b[1;33m\u001b[0m\u001b[1;33m\u001b[0m\u001b[0m\n\u001b[0m\u001b[0;32m    569\u001b[0m       expand_composites=expand_composites)\n\u001b[0;32m    570\u001b[0m \u001b[1;33m\u001b[0m\u001b[0m\n",
      "\u001b[1;32mD:\\Anaconda3\\envs\\tf\\lib\\site-packages\\tensorflow_core\\python\\util\\nest.py\u001b[0m in \u001b[0;36m<listcomp>\u001b[1;34m(.0)\u001b[0m\n\u001b[0;32m    566\u001b[0m \u001b[1;33m\u001b[0m\u001b[0m\n\u001b[0;32m    567\u001b[0m   return pack_sequence_as(\n\u001b[1;32m--> 568\u001b[1;33m       \u001b[0mstructure\u001b[0m\u001b[1;33m[\u001b[0m\u001b[1;36m0\u001b[0m\u001b[1;33m]\u001b[0m\u001b[1;33m,\u001b[0m \u001b[1;33m[\u001b[0m\u001b[0mfunc\u001b[0m\u001b[1;33m(\u001b[0m\u001b[1;33m*\u001b[0m\u001b[0mx\u001b[0m\u001b[1;33m)\u001b[0m \u001b[1;32mfor\u001b[0m \u001b[0mx\u001b[0m \u001b[1;32min\u001b[0m \u001b[0mentries\u001b[0m\u001b[1;33m]\u001b[0m\u001b[1;33m,\u001b[0m\u001b[1;33m\u001b[0m\u001b[1;33m\u001b[0m\u001b[0m\n\u001b[0m\u001b[0;32m    569\u001b[0m       expand_composites=expand_composites)\n\u001b[0;32m    570\u001b[0m \u001b[1;33m\u001b[0m\u001b[0m\n",
      "\u001b[1;32mD:\\Anaconda3\\envs\\tf\\lib\\site-packages\\tensorflow_core\\python\\keras\\engine\\training_v2_utils.py\u001b[0m in \u001b[0;36m_non_none_constant_value\u001b[1;34m(v)\u001b[0m\n\u001b[0;32m    128\u001b[0m \u001b[1;33m\u001b[0m\u001b[0m\n\u001b[0;32m    129\u001b[0m \u001b[1;32mdef\u001b[0m \u001b[0m_non_none_constant_value\u001b[0m\u001b[1;33m(\u001b[0m\u001b[0mv\u001b[0m\u001b[1;33m)\u001b[0m\u001b[1;33m:\u001b[0m\u001b[1;33m\u001b[0m\u001b[1;33m\u001b[0m\u001b[0m\n\u001b[1;32m--> 130\u001b[1;33m   \u001b[0mconstant_value\u001b[0m \u001b[1;33m=\u001b[0m \u001b[0mtensor_util\u001b[0m\u001b[1;33m.\u001b[0m\u001b[0mconstant_value\u001b[0m\u001b[1;33m(\u001b[0m\u001b[0mv\u001b[0m\u001b[1;33m)\u001b[0m\u001b[1;33m\u001b[0m\u001b[1;33m\u001b[0m\u001b[0m\n\u001b[0m\u001b[0;32m    131\u001b[0m   \u001b[1;32mreturn\u001b[0m \u001b[0mconstant_value\u001b[0m \u001b[1;32mif\u001b[0m \u001b[0mconstant_value\u001b[0m \u001b[1;32mis\u001b[0m \u001b[1;32mnot\u001b[0m \u001b[1;32mNone\u001b[0m \u001b[1;32melse\u001b[0m \u001b[0mv\u001b[0m\u001b[1;33m\u001b[0m\u001b[1;33m\u001b[0m\u001b[0m\n\u001b[0;32m    132\u001b[0m \u001b[1;33m\u001b[0m\u001b[0m\n",
      "\u001b[1;32mD:\\Anaconda3\\envs\\tf\\lib\\site-packages\\tensorflow_core\\python\\framework\\tensor_util.py\u001b[0m in \u001b[0;36mconstant_value\u001b[1;34m(tensor, partial)\u001b[0m\n\u001b[0;32m    820\u001b[0m   \"\"\"\n\u001b[0;32m    821\u001b[0m   \u001b[1;32mif\u001b[0m \u001b[0misinstance\u001b[0m\u001b[1;33m(\u001b[0m\u001b[0mtensor\u001b[0m\u001b[1;33m,\u001b[0m \u001b[0mops\u001b[0m\u001b[1;33m.\u001b[0m\u001b[0mEagerTensor\u001b[0m\u001b[1;33m)\u001b[0m\u001b[1;33m:\u001b[0m\u001b[1;33m\u001b[0m\u001b[1;33m\u001b[0m\u001b[0m\n\u001b[1;32m--> 822\u001b[1;33m     \u001b[1;32mreturn\u001b[0m \u001b[0mtensor\u001b[0m\u001b[1;33m.\u001b[0m\u001b[0mnumpy\u001b[0m\u001b[1;33m(\u001b[0m\u001b[1;33m)\u001b[0m\u001b[1;33m\u001b[0m\u001b[1;33m\u001b[0m\u001b[0m\n\u001b[0m\u001b[0;32m    823\u001b[0m   \u001b[1;32mif\u001b[0m \u001b[1;32mnot\u001b[0m \u001b[0mis_tensor\u001b[0m\u001b[1;33m(\u001b[0m\u001b[0mtensor\u001b[0m\u001b[1;33m)\u001b[0m\u001b[1;33m:\u001b[0m\u001b[1;33m\u001b[0m\u001b[1;33m\u001b[0m\u001b[0m\n\u001b[0;32m    824\u001b[0m     \u001b[1;32mreturn\u001b[0m \u001b[0mtensor\u001b[0m\u001b[1;33m\u001b[0m\u001b[1;33m\u001b[0m\u001b[0m\n",
      "\u001b[1;32mD:\\Anaconda3\\envs\\tf\\lib\\site-packages\\tensorflow_core\\python\\framework\\ops.py\u001b[0m in \u001b[0;36mnumpy\u001b[1;34m(self)\u001b[0m\n\u001b[0;32m    940\u001b[0m     \"\"\"\n\u001b[0;32m    941\u001b[0m     \u001b[1;31m# TODO(slebedev): Consider avoiding a copy for non-CPU or remote tensors.\u001b[0m\u001b[1;33m\u001b[0m\u001b[1;33m\u001b[0m\u001b[1;33m\u001b[0m\u001b[0m\n\u001b[1;32m--> 942\u001b[1;33m     \u001b[0mmaybe_arr\u001b[0m \u001b[1;33m=\u001b[0m \u001b[0mself\u001b[0m\u001b[1;33m.\u001b[0m\u001b[0m_numpy\u001b[0m\u001b[1;33m(\u001b[0m\u001b[1;33m)\u001b[0m  \u001b[1;31m# pylint: disable=protected-access\u001b[0m\u001b[1;33m\u001b[0m\u001b[1;33m\u001b[0m\u001b[0m\n\u001b[0m\u001b[0;32m    943\u001b[0m     \u001b[1;32mreturn\u001b[0m \u001b[0mmaybe_arr\u001b[0m\u001b[1;33m.\u001b[0m\u001b[0mcopy\u001b[0m\u001b[1;33m(\u001b[0m\u001b[1;33m)\u001b[0m \u001b[1;32mif\u001b[0m \u001b[0misinstance\u001b[0m\u001b[1;33m(\u001b[0m\u001b[0mmaybe_arr\u001b[0m\u001b[1;33m,\u001b[0m \u001b[0mnp\u001b[0m\u001b[1;33m.\u001b[0m\u001b[0mndarray\u001b[0m\u001b[1;33m)\u001b[0m \u001b[1;32melse\u001b[0m \u001b[0mmaybe_arr\u001b[0m\u001b[1;33m\u001b[0m\u001b[1;33m\u001b[0m\u001b[0m\n\u001b[0;32m    944\u001b[0m \u001b[1;33m\u001b[0m\u001b[0m\n",
      "\u001b[1;32mD:\\Anaconda3\\envs\\tf\\lib\\site-packages\\tensorflow_core\\python\\framework\\ops.py\u001b[0m in \u001b[0;36m_numpy\u001b[1;34m(self)\u001b[0m\n\u001b[0;32m    906\u001b[0m     \u001b[1;31m# pylint: disable=protected-access\u001b[0m\u001b[1;33m\u001b[0m\u001b[1;33m\u001b[0m\u001b[1;33m\u001b[0m\u001b[0m\n\u001b[0;32m    907\u001b[0m     \u001b[1;32mtry\u001b[0m\u001b[1;33m:\u001b[0m\u001b[1;33m\u001b[0m\u001b[1;33m\u001b[0m\u001b[0m\n\u001b[1;32m--> 908\u001b[1;33m       \u001b[1;32mreturn\u001b[0m \u001b[0mself\u001b[0m\u001b[1;33m.\u001b[0m\u001b[0m_numpy_internal\u001b[0m\u001b[1;33m(\u001b[0m\u001b[1;33m)\u001b[0m\u001b[1;33m\u001b[0m\u001b[1;33m\u001b[0m\u001b[0m\n\u001b[0m\u001b[0;32m    909\u001b[0m     \u001b[1;32mexcept\u001b[0m \u001b[0mcore\u001b[0m\u001b[1;33m.\u001b[0m\u001b[0m_NotOkStatusException\u001b[0m \u001b[1;32mas\u001b[0m \u001b[0me\u001b[0m\u001b[1;33m:\u001b[0m\u001b[1;33m\u001b[0m\u001b[1;33m\u001b[0m\u001b[0m\n\u001b[0;32m    910\u001b[0m       \u001b[0msix\u001b[0m\u001b[1;33m.\u001b[0m\u001b[0mraise_from\u001b[0m\u001b[1;33m(\u001b[0m\u001b[0mcore\u001b[0m\u001b[1;33m.\u001b[0m\u001b[0m_status_to_exception\u001b[0m\u001b[1;33m(\u001b[0m\u001b[0me\u001b[0m\u001b[1;33m.\u001b[0m\u001b[0mcode\u001b[0m\u001b[1;33m,\u001b[0m \u001b[0me\u001b[0m\u001b[1;33m.\u001b[0m\u001b[0mmessage\u001b[0m\u001b[1;33m)\u001b[0m\u001b[1;33m,\u001b[0m \u001b[1;32mNone\u001b[0m\u001b[1;33m)\u001b[0m\u001b[1;33m\u001b[0m\u001b[1;33m\u001b[0m\u001b[0m\n",
      "\u001b[1;31mKeyboardInterrupt\u001b[0m: "
     ]
    }
   ],
   "source": [
    "run_logdir = get_run_logdir()\n",
    "tensorboard_cb = Callbacks.TensorBoard(run_logdir)\n",
    "\n",
    "history = model_1.fit(Images, Labels, \n",
    "                    batch_size=32, \n",
    "                    epochs=50, \n",
    "                    validation_split = 0.2,\n",
    "                    callbacks=[tensorboard_cb])"
   ]
  },
  {
   "cell_type": "code",
   "execution_count": null,
   "metadata": {},
   "outputs": [],
   "source": [
    "model_1.save('saved_model\\\\3x1_1mil_Relu')"
   ]
  },
  {
   "cell_type": "code",
   "execution_count": 46,
   "metadata": {},
   "outputs": [
    {
     "output_type": "stream",
     "name": "stdout",
     "text": [
      "Model: \"sequential_19\"\n_________________________________________________________________\nLayer (type)                 Output Shape              Param #   \n=================================================================\nconv2d_94 (Conv2D)           (None, 150, 150, 16)      448       \n_________________________________________________________________\nmax_pooling2d_61 (MaxPooling (None, 75, 75, 16)        0         \n_________________________________________________________________\nconv2d_95 (Conv2D)           (None, 75, 75, 32)        4640      \n_________________________________________________________________\nconv2d_96 (Conv2D)           (None, 75, 75, 32)        9248      \n_________________________________________________________________\nmax_pooling2d_62 (MaxPooling (None, 38, 38, 32)        0         \n_________________________________________________________________\nconv2d_97 (Conv2D)           (None, 38, 38, 64)        18496     \n_________________________________________________________________\nconv2d_98 (Conv2D)           (None, 38, 38, 64)        36928     \n_________________________________________________________________\nmax_pooling2d_63 (MaxPooling (None, 19, 19, 64)        0         \n_________________________________________________________________\nflatten_19 (Flatten)         (None, 23104)             0         \n_________________________________________________________________\ndense_56 (Dense)             (None, 64)                1478720   \n_________________________________________________________________\ndropout_23 (Dropout)         (None, 64)                0         \n_________________________________________________________________\ndense_57 (Dense)             (None, 32)                2080      \n_________________________________________________________________\ndense_58 (Dense)             (None, 6)                 198       \n=================================================================\nTotal params: 1,550,758\nTrainable params: 1,550,758\nNon-trainable params: 0\n_________________________________________________________________\n"
     ]
    }
   ],
   "source": [
    "model_2 = Models.Sequential()\n",
    "\n",
    "model_2.add(Layers.Conv2D(16,kernel_size=(3,3),activation='relu',input_shape=(150,150,3), padding=\"same\"))\n",
    "model_2.add(Layers.Conv2D(16,kernel_size=(3,3),activation='relu', padding=\"same\"))\n",
    "model_2.add(Layers.MaxPool2D((2,2), strides=2, padding=\"same\"))\n",
    "\n",
    "model_2.add(Layers.Conv2D(32,kernel_size=(3,3),activation='relu', padding=\"same\"))\n",
    "model_2.add(Layers.Conv2D(32,kernel_size=(3,3),activation='relu', padding=\"same\"))\n",
    "model_2.add(Layers.MaxPool2D((2,2), strides=2, padding=\"same\"))\n",
    "\n",
    "model_2.add(Layers.Conv2D(64,kernel_size=(3,3),activation='relu', padding=\"same\"))\n",
    "model_2.add(Layers.Conv2D(64,kernel_size=(3,3),activation='relu', padding=\"same\"))\n",
    "model_2.add(Layers.MaxPool2D((2,2), strides=2, padding=\"same\"))\n",
    "\n",
    "model_2.add(Layers.Flatten())\n",
    "\n",
    "model_2.add(Layers.Dense(64,activation='relu'))\n",
    "model_2.add(Layers.Dropout(rate=0.5))\n",
    "model_2.add(Layers.Dense(32,activation='relu'))\n",
    "model.add(Layers.Dropout(rate=0.5))\n",
    "model_2.add(Layers.Dense(6,activation='softmax'))\n",
    "\n",
    "model_2.compile(optimizer=Optimizer.Adam(lr=0.0001),loss='sparse_categorical_crossentropy',metrics=['accuracy'])\n",
    "\n",
    "model_2.summary()"
   ]
  },
  {
   "cell_type": "code",
   "execution_count": 47,
   "metadata": {},
   "outputs": [
    {
     "output_type": "stream",
     "name": "stdout",
     "text": [
      "Train on 11227 samples, validate on 2807 samples\n",
      "Epoch 1/25\n",
      "11227/11227 [==============================] - 6s 535us/sample - loss: 1.6988 - accuracy: 0.4226 - val_loss: 1.0286 - val_accuracy: 0.6152\n",
      "Epoch 2/25\n",
      "11227/11227 [==============================] - 5s 465us/sample - loss: 1.1183 - accuracy: 0.5585 - val_loss: 0.9028 - val_accuracy: 0.6879\n",
      "Epoch 3/25\n",
      "11227/11227 [==============================] - 5s 424us/sample - loss: 1.0008 - accuracy: 0.5973 - val_loss: 0.8804 - val_accuracy: 0.6633\n",
      "Epoch 4/25\n",
      "11227/11227 [==============================] - 5s 462us/sample - loss: 0.9064 - accuracy: 0.6438 - val_loss: 0.7372 - val_accuracy: 0.7357\n",
      "Epoch 5/25\n",
      "11227/11227 [==============================] - 5s 445us/sample - loss: 0.8262 - accuracy: 0.6765 - val_loss: 0.6952 - val_accuracy: 0.7592\n",
      "Epoch 6/25\n",
      "11227/11227 [==============================] - 5s 421us/sample - loss: 0.7785 - accuracy: 0.6963 - val_loss: 0.6375 - val_accuracy: 0.7627\n",
      "Epoch 7/25\n",
      "11227/11227 [==============================] - 5s 477us/sample - loss: 0.7318 - accuracy: 0.7214 - val_loss: 0.7040 - val_accuracy: 0.7560\n",
      "Epoch 8/25\n",
      "11227/11227 [==============================] - 5s 474us/sample - loss: 0.6862 - accuracy: 0.7363 - val_loss: 0.6794 - val_accuracy: 0.7531\n",
      "Epoch 9/25\n",
      "11227/11227 [==============================] - 5s 476us/sample - loss: 0.6268 - accuracy: 0.7642 - val_loss: 0.5900 - val_accuracy: 0.8001\n",
      "Epoch 10/25\n",
      "11227/11227 [==============================] - 5s 476us/sample - loss: 0.5870 - accuracy: 0.7779 - val_loss: 0.5982 - val_accuracy: 0.7895\n",
      "Epoch 11/25\n",
      "11227/11227 [==============================] - 5s 477us/sample - loss: 0.5554 - accuracy: 0.7914 - val_loss: 0.6010 - val_accuracy: 0.7884\n",
      "Epoch 12/25\n",
      "11227/11227 [==============================] - 5s 475us/sample - loss: 0.5195 - accuracy: 0.8128 - val_loss: 0.6443 - val_accuracy: 0.7724\n",
      "Epoch 13/25\n",
      "11227/11227 [==============================] - 5s 475us/sample - loss: 0.5061 - accuracy: 0.8208 - val_loss: 0.6162 - val_accuracy: 0.7870\n",
      "Epoch 14/25\n",
      "11227/11227 [==============================] - 5s 480us/sample - loss: 0.4637 - accuracy: 0.8299 - val_loss: 0.6084 - val_accuracy: 0.7827\n",
      "Epoch 15/25\n",
      "11227/11227 [==============================] - 5s 483us/sample - loss: 0.4530 - accuracy: 0.8381 - val_loss: 0.6139 - val_accuracy: 0.7980\n",
      "Epoch 16/25\n",
      "11227/11227 [==============================] - 5s 473us/sample - loss: 0.4079 - accuracy: 0.8485 - val_loss: 0.6211 - val_accuracy: 0.7934\n",
      "Epoch 17/25\n",
      "11227/11227 [==============================] - 5s 477us/sample - loss: 0.3847 - accuracy: 0.8604 - val_loss: 0.6309 - val_accuracy: 0.7969\n",
      "Epoch 18/25\n",
      "11227/11227 [==============================] - 5s 483us/sample - loss: 0.3792 - accuracy: 0.8636 - val_loss: 0.6291 - val_accuracy: 0.8094\n",
      "Epoch 19/25\n",
      "11227/11227 [==============================] - 5s 483us/sample - loss: 0.3499 - accuracy: 0.8737 - val_loss: 0.6704 - val_accuracy: 0.7934\n",
      "Epoch 20/25\n",
      "11227/11227 [==============================] - 5s 481us/sample - loss: 0.3452 - accuracy: 0.8716 - val_loss: 0.6727 - val_accuracy: 0.7834\n",
      "Epoch 21/25\n",
      "11227/11227 [==============================] - 5s 479us/sample - loss: 0.3179 - accuracy: 0.8876 - val_loss: 0.6695 - val_accuracy: 0.7962\n",
      "Epoch 22/25\n",
      "11227/11227 [==============================] - 5s 475us/sample - loss: 0.3051 - accuracy: 0.8880 - val_loss: 0.6948 - val_accuracy: 0.8058\n",
      "Epoch 23/25\n",
      "11227/11227 [==============================] - 5s 475us/sample - loss: 0.3274 - accuracy: 0.8786 - val_loss: 0.6977 - val_accuracy: 0.7880\n",
      "Epoch 24/25\n",
      "11227/11227 [==============================] - 5s 480us/sample - loss: 0.3007 - accuracy: 0.8901 - val_loss: 0.7241 - val_accuracy: 0.7959\n",
      "Epoch 25/25\n",
      "11227/11227 [==============================] - 5s 482us/sample - loss: 0.3036 - accuracy: 0.8874 - val_loss: 0.7208 - val_accuracy: 0.7955\n"
     ]
    }
   ],
   "source": [
    "run_logdir = get_run_logdir()\n",
    "tensorboard_cb = Callbacks.TensorBoard(run_logdir)\n",
    "\n",
    "history2 = model_2.fit(Images, Labels, \n",
    "                    batch_size=32, \n",
    "                    epochs=50, \n",
    "                    validation_split = 0.2,\n",
    "                    callbacks=[tensorboard_cb])"
   ]
  },
  {
   "cell_type": "code",
   "execution_count": 19,
   "metadata": {},
   "outputs": [
    {
     "output_type": "stream",
     "name": "stdout",
     "text": [
      "3000/3000 [==============================] - 0s 166us/sample - loss: 1.4399 - accuracy: 0.7380\n"
     ]
    },
    {
     "output_type": "execute_result",
     "data": {
      "text/plain": [
       "[1.4399294182459514, 0.738]"
      ]
     },
     "metadata": {},
     "execution_count": 19
    }
   ],
   "source": [
    "model_2.save('saved_model\\\\3x2_1mil_Relu')"
   ]
  },
  {
   "cell_type": "code",
   "execution_count": 49,
   "metadata": {},
   "outputs": [
    {
     "output_type": "stream",
     "name": "stdout",
     "text": [
      "Model: \"sequential_20\"\n_________________________________________________________________\nLayer (type)                 Output Shape              Param #   \n=================================================================\nconv2d_99 (Conv2D)           (None, 150, 150, 16)      448       \n_________________________________________________________________\nconv2d_100 (Conv2D)          (None, 150, 150, 16)      2320      \n_________________________________________________________________\nconv2d_101 (Conv2D)          (None, 150, 150, 16)      2320      \n_________________________________________________________________\nmax_pooling2d_64 (MaxPooling (None, 75, 75, 16)        0         \n_________________________________________________________________\nconv2d_102 (Conv2D)          (None, 75, 75, 32)        4640      \n_________________________________________________________________\nconv2d_103 (Conv2D)          (None, 75, 75, 32)        9248      \n_________________________________________________________________\nconv2d_104 (Conv2D)          (None, 75, 75, 32)        9248      \n_________________________________________________________________\nmax_pooling2d_65 (MaxPooling (None, 38, 38, 32)        0         \n_________________________________________________________________\nconv2d_105 (Conv2D)          (None, 38, 38, 64)        18496     \n_________________________________________________________________\nconv2d_106 (Conv2D)          (None, 38, 38, 64)        36928     \n_________________________________________________________________\nconv2d_107 (Conv2D)          (None, 38, 38, 64)        36928     \n_________________________________________________________________\nmax_pooling2d_66 (MaxPooling (None, 19, 19, 64)        0         \n_________________________________________________________________\nflatten_20 (Flatten)         (None, 23104)             0         \n_________________________________________________________________\ndense_59 (Dense)             (None, 64)                1478720   \n_________________________________________________________________\ndropout_24 (Dropout)         (None, 64)                0         \n_________________________________________________________________\ndense_60 (Dense)             (None, 32)                2080      \n_________________________________________________________________\ndense_61 (Dense)             (None, 6)                 198       \n=================================================================\nTotal params: 1,601,574\nTrainable params: 1,601,574\nNon-trainable params: 0\n_________________________________________________________________\n"
     ]
    }
   ],
   "source": [
    "model_3 = Models.Sequential()\n",
    "\n",
    "model_3.add(Layers.Conv2D(16,kernel_size=(3,3),activation='relu',input_shape=(150,150,3), padding=\"same\"))\n",
    "model_3.add(Layers.Conv2D(16,kernel_size=(3,3),activation='relu', padding=\"same\"))\n",
    "model_3.add(Layers.Conv2D(16,kernel_size=(3,3),activation='relu', padding=\"same\"))\n",
    "model_3.add(Layers.MaxPool2D((2,2), strides=2, padding=\"same\"))\n",
    "\n",
    "model_3.add(Layers.Conv2D(32,kernel_size=(3,3),activation='relu', padding=\"same\"))\n",
    "model_3.add(Layers.Conv2D(32,kernel_size=(3,3),activation='relu', padding=\"same\"))\n",
    "model_3.add(Layers.Conv2D(32,kernel_size=(3,3),activation='relu', padding=\"same\"))\n",
    "model_3.add(Layers.MaxPool2D((2,2), strides=2, padding=\"same\"))\n",
    "\n",
    "model_3.add(Layers.Conv2D(64,kernel_size=(3,3),activation='relu', padding=\"same\"))\n",
    "model_3.add(Layers.Conv2D(64,kernel_size=(3,3),activation='relu', padding=\"same\"))\n",
    "model_3.add(Layers.Conv2D(64,kernel_size=(3,3),activation='relu', padding=\"same\"))\n",
    "model_3.add(Layers.MaxPool2D((2,2), strides=2, padding=\"same\"))\n",
    "\n",
    "model_3.add(Layers.Flatten())\n",
    "\n",
    "model_3.add(Layers.Dense(64,activation='relu'))\n",
    "model_3.add(Layers.Dropout(rate=0.5))\n",
    "model_3.add(Layers.Dense(32,activation='relu'))\n",
    "model_3.add(Layers.Dropout(rate=0.5))\n",
    "model_3.add(Layers.Dense(6,activation='softmax'))\n",
    "\n",
    "model_3.compile(optimizer=Optimizer.Adam(lr=0.0001),loss='sparse_categorical_crossentropy',metrics=['accuracy'])\n",
    "\n",
    "model_3.summary()"
   ]
  },
  {
   "cell_type": "code",
   "execution_count": 50,
   "metadata": {},
   "outputs": [
    {
     "output_type": "stream",
     "name": "stdout",
     "text": [
      "Train on 11227 samples, validate on 2807 samples\n",
      "Epoch 1/25\n",
      "11227/11227 [==============================] - 13s 1ms/sample - loss: 1.4490 - accuracy: 0.4057 - val_loss: 0.9872 - val_accuracy: 0.6138\n",
      "Epoch 2/25\n",
      "11227/11227 [==============================] - 10s 925us/sample - loss: 1.0620 - accuracy: 0.5621 - val_loss: 0.9468 - val_accuracy: 0.6345\n",
      "Epoch 3/25\n",
      "11227/11227 [==============================] - 10s 911us/sample - loss: 0.9592 - accuracy: 0.6068 - val_loss: 0.8189 - val_accuracy: 0.6651\n",
      "Epoch 4/25\n",
      "11227/11227 [==============================] - 11s 950us/sample - loss: 0.8878 - accuracy: 0.6319 - val_loss: 0.7317 - val_accuracy: 0.7282\n",
      "Epoch 5/25\n",
      "11227/11227 [==============================] - 12s 1ms/sample - loss: 0.8284 - accuracy: 0.6593 - val_loss: 0.6970 - val_accuracy: 0.7357\n",
      "Epoch 6/25\n",
      "11227/11227 [==============================] - 12s 1ms/sample - loss: 0.7892 - accuracy: 0.6803 - val_loss: 0.7331 - val_accuracy: 0.7211\n",
      "Epoch 7/25\n",
      "11227/11227 [==============================] - 12s 1ms/sample - loss: 0.7665 - accuracy: 0.6932 - val_loss: 0.6385 - val_accuracy: 0.7691\n",
      "Epoch 8/25\n",
      "11227/11227 [==============================] - 11s 1ms/sample - loss: 0.7153 - accuracy: 0.7155 - val_loss: 0.6924 - val_accuracy: 0.7456\n",
      "Epoch 9/25\n",
      "11227/11227 [==============================] - 11s 955us/sample - loss: 0.6876 - accuracy: 0.7305 - val_loss: 0.6414 - val_accuracy: 0.7713\n",
      "Epoch 10/25\n",
      "11227/11227 [==============================] - 11s 942us/sample - loss: 0.6390 - accuracy: 0.7544 - val_loss: 0.5645 - val_accuracy: 0.7902\n",
      "Epoch 11/25\n",
      "11227/11227 [==============================] - 10s 896us/sample - loss: 0.5772 - accuracy: 0.7771 - val_loss: 0.5478 - val_accuracy: 0.8137\n",
      "Epoch 12/25\n",
      "11227/11227 [==============================] - 10s 899us/sample - loss: 0.5405 - accuracy: 0.8000 - val_loss: 0.5307 - val_accuracy: 0.8147\n",
      "Epoch 13/25\n",
      "11227/11227 [==============================] - 10s 913us/sample - loss: 0.5445 - accuracy: 0.7920 - val_loss: 0.5667 - val_accuracy: 0.8012\n",
      "Epoch 14/25\n",
      "11227/11227 [==============================] - 10s 898us/sample - loss: 0.4741 - accuracy: 0.8219 - val_loss: 0.5207 - val_accuracy: 0.8201\n",
      "Epoch 15/25\n",
      "11227/11227 [==============================] - 10s 898us/sample - loss: 0.4520 - accuracy: 0.8326 - val_loss: 0.5182 - val_accuracy: 0.8233\n",
      "Epoch 16/25\n",
      "11227/11227 [==============================] - 10s 894us/sample - loss: 0.4326 - accuracy: 0.8375 - val_loss: 0.5539 - val_accuracy: 0.8001\n",
      "Epoch 17/25\n",
      "11227/11227 [==============================] - 10s 927us/sample - loss: 0.3958 - accuracy: 0.8536 - val_loss: 0.5405 - val_accuracy: 0.8144\n",
      "Epoch 18/25\n",
      "11227/11227 [==============================] - 10s 924us/sample - loss: 0.3867 - accuracy: 0.8537 - val_loss: 0.5062 - val_accuracy: 0.8294\n",
      "Epoch 19/25\n",
      "11227/11227 [==============================] - 10s 876us/sample - loss: 0.3576 - accuracy: 0.8656 - val_loss: 0.5149 - val_accuracy: 0.8372\n",
      "Epoch 20/25\n",
      "11227/11227 [==============================] - 10s 876us/sample - loss: 0.3333 - accuracy: 0.8732 - val_loss: 0.5372 - val_accuracy: 0.8301\n",
      "Epoch 21/25\n",
      "11227/11227 [==============================] - 10s 876us/sample - loss: 0.3196 - accuracy: 0.8803 - val_loss: 0.5705 - val_accuracy: 0.8187\n",
      "Epoch 22/25\n",
      "11227/11227 [==============================] - 10s 877us/sample - loss: 0.3151 - accuracy: 0.8797 - val_loss: 0.5905 - val_accuracy: 0.8283\n",
      "Epoch 23/25\n",
      "11227/11227 [==============================] - 12s 1ms/sample - loss: 0.3117 - accuracy: 0.8858 - val_loss: 0.6764 - val_accuracy: 0.7877\n",
      "Epoch 24/25\n",
      "11227/11227 [==============================] - 10s 931us/sample - loss: 0.2928 - accuracy: 0.8880 - val_loss: 0.6255 - val_accuracy: 0.8126\n",
      "Epoch 25/25\n",
      "11227/11227 [==============================] - 10s 899us/sample - loss: 0.2832 - accuracy: 0.8951 - val_loss: 0.7327 - val_accuracy: 0.7930\n"
     ]
    }
   ],
   "source": [
    "run_logdir = get_run_logdir()\n",
    "tensorboard_cb = Callbacks.TensorBoard(run_logdir)\n",
    "\n",
    "history2 = model_3.fit(Images, Labels, \n",
    "                    batch_size=32, \n",
    "                    epochs=100, \n",
    "                    validation_split = 0.2,\n",
    "                    callbacks=[tensorboard_cb])"
   ]
  },
  {
   "cell_type": "code",
   "execution_count": null,
   "metadata": {},
   "outputs": [],
   "source": [
    "model_3.save('saved_model\\\\3x3_1mil_Relu')"
   ]
  },
  {
   "cell_type": "code",
   "execution_count": 53,
   "metadata": {},
   "outputs": [
    {
     "output_type": "stream",
     "name": "stdout",
     "text": [
      "Model: \"sequential_22\"\n_________________________________________________________________\nLayer (type)                 Output Shape              Param #   \n=================================================================\nconv2d_116 (Conv2D)          (None, 150, 150, 16)      448       \n_________________________________________________________________\nconv2d_117 (Conv2D)          (None, 150, 150, 16)      2320      \n_________________________________________________________________\nmax_pooling2d_71 (MaxPooling (None, 75, 75, 16)        0         \n_________________________________________________________________\nconv2d_118 (Conv2D)          (None, 75, 75, 32)        4640      \n_________________________________________________________________\nconv2d_119 (Conv2D)          (None, 75, 75, 32)        9248      \n_________________________________________________________________\nmax_pooling2d_72 (MaxPooling (None, 38, 38, 32)        0         \n_________________________________________________________________\nconv2d_120 (Conv2D)          (None, 38, 38, 64)        18496     \n_________________________________________________________________\nconv2d_121 (Conv2D)          (None, 38, 38, 64)        36928     \n_________________________________________________________________\nmax_pooling2d_73 (MaxPooling (None, 19, 19, 64)        0         \n_________________________________________________________________\nconv2d_122 (Conv2D)          (None, 19, 19, 128)       73856     \n_________________________________________________________________\nconv2d_123 (Conv2D)          (None, 19, 19, 128)       147584    \n_________________________________________________________________\nmax_pooling2d_74 (MaxPooling (None, 10, 10, 128)       0         \n_________________________________________________________________\nflatten_22 (Flatten)         (None, 12800)             0         \n_________________________________________________________________\ndense_66 (Dense)             (None, 128)               1638528   \n_________________________________________________________________\ndropout_27 (Dropout)         (None, 128)               0         \n_________________________________________________________________\ndense_67 (Dense)             (None, 64)                8256      \n_________________________________________________________________\ndropout_28 (Dropout)         (None, 64)                0         \n_________________________________________________________________\ndense_68 (Dense)             (None, 32)                2080      \n_________________________________________________________________\ndense_69 (Dense)             (None, 6)                 198       \n=================================================================\nTotal params: 1,942,582\nTrainable params: 1,942,582\nNon-trainable params: 0\n_________________________________________________________________\n"
     ]
    }
   ],
   "source": [
    "model_4 = Models.Sequential()\n",
    "\n",
    "model_4.add(Layers.Conv2D(16,kernel_size=(3,3),activation='relu',input_shape=(150,150,3), padding=\"same\"))\n",
    "model_4.add(Layers.Conv2D(16,kernel_size=(3,3),activation='relu', padding=\"same\"))\n",
    "model_4.add(Layers.MaxPool2D((2,2), strides=2, padding=\"same\"))\n",
    "\n",
    "model_4.add(Layers.Conv2D(32,kernel_size=(3,3),activation='relu', padding=\"same\"))\n",
    "model_4.add(Layers.Conv2D(32,kernel_size=(3,3),activation='relu', padding=\"same\"))\n",
    "model_4.add(Layers.MaxPool2D((2,2), strides=2, padding=\"same\"))\n",
    "\n",
    "model_4.add(Layers.Conv2D(64,kernel_size=(3,3),activation='relu', padding=\"same\"))\n",
    "model_4.add(Layers.Conv2D(64,kernel_size=(3,3),activation='relu', padding=\"same\"))\n",
    "model_4.add(Layers.MaxPool2D((2,2), strides=2, padding=\"same\"))\n",
    "\n",
    "model_4.add(Layers.Conv2D(128,kernel_size=(3,3),activation='relu', padding=\"same\"))\n",
    "model_4.add(Layers.Conv2D(128,kernel_size=(3,3),activation='relu', padding=\"same\"))\n",
    "model_4.add(Layers.MaxPool2D((2,2), strides=2, padding=\"same\"))\n",
    "\n",
    "\n",
    "model_4.add(Layers.Flatten())\n",
    "model_4.add(Layers.Dense(128,activation='relu'))\n",
    "model_4.add(Layers.Dropout(rate=0.5))\n",
    "model_4.add(Layers.Dense(64,activation='relu'))\n",
    "model_4.add(Layers.Dropout(rate=0.5))\n",
    "model_4.add(Layers.Dense(32,activation='relu'))\n",
    "model.add(Layers.Dropout(rate=0.5))\n",
    "model_4.add(Layers.Dense(6,activation='softmax'))\n",
    "\n",
    "model_4.compile(optimizer=Optimizer.Adam(lr=0.0001),loss='sparse_categorical_crossentropy',metrics=['accuracy'])\n",
    "\n",
    "model_4.summary()"
   ]
  },
  {
   "cell_type": "code",
   "execution_count": 54,
   "metadata": {},
   "outputs": [
    {
     "output_type": "stream",
     "name": "stdout",
     "text": [
      "Train on 11227 samples, validate on 2807 samples\n",
      "Epoch 1/25\n",
      "11227/11227 [==============================] - 9s 824us/sample - loss: 1.5106 - accuracy: 0.3622 - val_loss: 1.0676 - val_accuracy: 0.5611\n",
      "Epoch 2/25\n",
      "11227/11227 [==============================] - 8s 668us/sample - loss: 1.1093 - accuracy: 0.5477 - val_loss: 0.9410 - val_accuracy: 0.6323\n",
      "Epoch 3/25\n",
      "11227/11227 [==============================] - 7s 635us/sample - loss: 0.9759 - accuracy: 0.6011 - val_loss: 0.8041 - val_accuracy: 0.6826\n",
      "Epoch 4/25\n",
      "11227/11227 [==============================] - 7s 639us/sample - loss: 0.8885 - accuracy: 0.6540 - val_loss: 0.7745 - val_accuracy: 0.6751\n",
      "Epoch 5/25\n",
      "11227/11227 [==============================] - 8s 698us/sample - loss: 0.8156 - accuracy: 0.6882 - val_loss: 0.6820 - val_accuracy: 0.7399\n",
      "Epoch 6/25\n",
      "11227/11227 [==============================] - 8s 724us/sample - loss: 0.7784 - accuracy: 0.7019 - val_loss: 0.7370 - val_accuracy: 0.7221\n",
      "Epoch 7/25\n",
      "11227/11227 [==============================] - 7s 652us/sample - loss: 0.7429 - accuracy: 0.7160 - val_loss: 0.6636 - val_accuracy: 0.7517\n",
      "Epoch 8/25\n",
      "11227/11227 [==============================] - 7s 649us/sample - loss: 0.7076 - accuracy: 0.7331 - val_loss: 0.6461 - val_accuracy: 0.7577\n",
      "Epoch 9/25\n",
      "11227/11227 [==============================] - 7s 650us/sample - loss: 0.6604 - accuracy: 0.7492 - val_loss: 0.6128 - val_accuracy: 0.7909\n",
      "Epoch 10/25\n",
      "11227/11227 [==============================] - 7s 642us/sample - loss: 0.6365 - accuracy: 0.7707 - val_loss: 0.6216 - val_accuracy: 0.7802\n",
      "Epoch 11/25\n",
      "11227/11227 [==============================] - 7s 639us/sample - loss: 0.5877 - accuracy: 0.7889 - val_loss: 0.5614 - val_accuracy: 0.8005\n",
      "Epoch 12/25\n",
      "11227/11227 [==============================] - 7s 641us/sample - loss: 0.5516 - accuracy: 0.8056 - val_loss: 0.5676 - val_accuracy: 0.8112\n",
      "Epoch 13/25\n",
      "11227/11227 [==============================] - 7s 641us/sample - loss: 0.5356 - accuracy: 0.8159 - val_loss: 0.5294 - val_accuracy: 0.8194\n",
      "Epoch 14/25\n",
      "11227/11227 [==============================] - 7s 639us/sample - loss: 0.4913 - accuracy: 0.8312 - val_loss: 0.6117 - val_accuracy: 0.7873\n",
      "Epoch 15/25\n",
      "11227/11227 [==============================] - 7s 653us/sample - loss: 0.4766 - accuracy: 0.8456 - val_loss: 0.7023 - val_accuracy: 0.7563\n",
      "Epoch 16/25\n",
      "11227/11227 [==============================] - 8s 698us/sample - loss: 0.4512 - accuracy: 0.8457 - val_loss: 0.7072 - val_accuracy: 0.7984\n",
      "Epoch 17/25\n",
      "11227/11227 [==============================] - 7s 639us/sample - loss: 0.4403 - accuracy: 0.8544 - val_loss: 0.5785 - val_accuracy: 0.8062\n",
      "Epoch 18/25\n",
      "11227/11227 [==============================] - 7s 643us/sample - loss: 0.4058 - accuracy: 0.8618 - val_loss: 0.5741 - val_accuracy: 0.8361\n",
      "Epoch 19/25\n",
      "11227/11227 [==============================] - 7s 655us/sample - loss: 0.3910 - accuracy: 0.8715 - val_loss: 0.5778 - val_accuracy: 0.8165\n",
      "Epoch 20/25\n",
      "11227/11227 [==============================] - 7s 647us/sample - loss: 0.3457 - accuracy: 0.8849 - val_loss: 0.5201 - val_accuracy: 0.8383\n",
      "Epoch 21/25\n",
      "11227/11227 [==============================] - 7s 646us/sample - loss: 0.3327 - accuracy: 0.8896 - val_loss: 0.6358 - val_accuracy: 0.8115\n",
      "Epoch 22/25\n",
      "11227/11227 [==============================] - 8s 669us/sample - loss: 0.3436 - accuracy: 0.8874 - val_loss: 0.5697 - val_accuracy: 0.8418\n",
      "Epoch 23/25\n",
      "11227/11227 [==============================] - 7s 637us/sample - loss: 0.3166 - accuracy: 0.8940 - val_loss: 0.5018 - val_accuracy: 0.8340\n",
      "Epoch 24/25\n",
      "11227/11227 [==============================] - 8s 725us/sample - loss: 0.3037 - accuracy: 0.8994 - val_loss: 0.5666 - val_accuracy: 0.8258\n",
      "Epoch 25/25\n",
      "11227/11227 [==============================] - 8s 738us/sample - loss: 0.2739 - accuracy: 0.9114 - val_loss: 0.5587 - val_accuracy: 0.8443\n"
     ]
    }
   ],
   "source": [
    "run_logdir = get_run_logdir()\n",
    "tensorboard_cb = Callbacks.TensorBoard(run_logdir)\n",
    "\n",
    "history2 = model_4.fit(Images, Labels, \n",
    "                    batch_size=32, \n",
    "                    epochs=100, \n",
    "                    validation_split = 0.2,\n",
    "                    callbacks=[tensorboard_cb])"
   ]
  },
  {
   "cell_type": "code",
   "execution_count": null,
   "metadata": {},
   "outputs": [],
   "source": [
    "model_4.save('saved_model\\\\4x2_2mil_Relu')"
   ]
  },
  {
   "cell_type": "code",
   "execution_count": 55,
   "metadata": {},
   "outputs": [
    {
     "output_type": "stream",
     "name": "stdout",
     "text": [
      "Model: \"sequential_23\"\n_________________________________________________________________\nLayer (type)                 Output Shape              Param #   \n=================================================================\nconv2d_124 (Conv2D)          (None, 150, 150, 16)      448       \n_________________________________________________________________\nconv2d_125 (Conv2D)          (None, 150, 150, 16)      2320      \n_________________________________________________________________\nconv2d_126 (Conv2D)          (None, 150, 150, 16)      2320      \n_________________________________________________________________\nmax_pooling2d_75 (MaxPooling (None, 75, 75, 16)        0         \n_________________________________________________________________\nconv2d_127 (Conv2D)          (None, 75, 75, 32)        4640      \n_________________________________________________________________\nconv2d_128 (Conv2D)          (None, 75, 75, 32)        9248      \n_________________________________________________________________\nconv2d_129 (Conv2D)          (None, 75, 75, 32)        9248      \n_________________________________________________________________\nmax_pooling2d_76 (MaxPooling (None, 38, 38, 32)        0         \n_________________________________________________________________\nconv2d_130 (Conv2D)          (None, 38, 38, 64)        18496     \n_________________________________________________________________\nconv2d_131 (Conv2D)          (None, 38, 38, 64)        36928     \n_________________________________________________________________\nconv2d_132 (Conv2D)          (None, 38, 38, 64)        36928     \n_________________________________________________________________\nmax_pooling2d_77 (MaxPooling (None, 19, 19, 64)        0         \n_________________________________________________________________\nconv2d_133 (Conv2D)          (None, 19, 19, 128)       73856     \n_________________________________________________________________\nconv2d_134 (Conv2D)          (None, 19, 19, 128)       147584    \n_________________________________________________________________\nconv2d_135 (Conv2D)          (None, 19, 19, 128)       147584    \n_________________________________________________________________\nmax_pooling2d_78 (MaxPooling (None, 10, 10, 128)       0         \n_________________________________________________________________\nflatten_23 (Flatten)         (None, 12800)             0         \n_________________________________________________________________\ndense_70 (Dense)             (None, 128)               1638528   \n_________________________________________________________________\ndropout_29 (Dropout)         (None, 128)               0         \n_________________________________________________________________\ndense_71 (Dense)             (None, 64)                8256      \n_________________________________________________________________\ndropout_30 (Dropout)         (None, 64)                0         \n_________________________________________________________________\ndense_72 (Dense)             (None, 32)                2080      \n_________________________________________________________________\ndense_73 (Dense)             (None, 6)                 198       \n=================================================================\nTotal params: 2,138,662\nTrainable params: 2,138,662\nNon-trainable params: 0\n_________________________________________________________________\n"
     ]
    }
   ],
   "source": [
    "model_5 = Models.Sequential()\n",
    "\n",
    "model_5.add(Layers.Conv2D(16,kernel_size=(3,3),activation='relu',input_shape=(150,150,3), padding=\"same\"))\n",
    "model_5.add(Layers.Conv2D(16,kernel_size=(3,3),activation='relu', padding=\"same\"))\n",
    "model_5.add(Layers.Conv2D(16,kernel_size=(3,3),activation='relu', padding=\"same\"))\n",
    "model_5.add(Layers.MaxPool2D((2,2), strides=2, padding=\"same\"))\n",
    "\n",
    "model_5.add(Layers.Conv2D(32,kernel_size=(3,3),activation='relu', padding=\"same\"))\n",
    "model_5.add(Layers.Conv2D(32,kernel_size=(3,3),activation='relu', padding=\"same\"))\n",
    "model_5.add(Layers.Conv2D(32,kernel_size=(3,3),activation='relu', padding=\"same\"))\n",
    "model_5.add(Layers.MaxPool2D((2,2), strides=2, padding=\"same\"))\n",
    "\n",
    "model_5.add(Layers.Conv2D(64,kernel_size=(3,3),activation='relu', padding=\"same\"))\n",
    "model_5.add(Layers.Conv2D(64,kernel_size=(3,3),activation='relu', padding=\"same\"))\n",
    "model_5.add(Layers.Conv2D(64,kernel_size=(3,3),activation='relu', padding=\"same\"))\n",
    "model_5.add(Layers.MaxPool2D((2,2), strides=2, padding=\"same\"))\n",
    "\n",
    "model_5.add(Layers.Conv2D(128,kernel_size=(3,3),activation='relu', padding=\"same\"))\n",
    "model_5.add(Layers.Conv2D(128,kernel_size=(3,3),activation='relu', padding=\"same\"))\n",
    "model_5.add(Layers.Conv2D(128,kernel_size=(3,3),activation='relu', padding=\"same\"))\n",
    "model_5.add(Layers.MaxPool2D((2,2), strides=2, padding=\"same\"))\n",
    "\n",
    "\n",
    "model_5.add(Layers.Flatten())\n",
    "model_5.add(Layers.Dense(128,activation='relu'))\n",
    "model_5.add(Layers.Dropout(rate=0.5))\n",
    "model_5.add(Layers.Dense(64,activation='relu'))\n",
    "model_5.add(Layers.Dropout(rate=0.5))\n",
    "model_5.add(Layers.Dense(32,activation='relu'))\n",
    "model.add(Layers.Dropout(rate=0.5))\n",
    "model_5.add(Layers.Dense(6,activation='softmax'))\n",
    "\n",
    "model_5.compile(optimizer=Optimizer.Adam(lr=0.0001),loss='sparse_categorical_crossentropy',metrics=['accuracy'])\n",
    "\n",
    "model_5.summary()"
   ]
  },
  {
   "cell_type": "code",
   "execution_count": 56,
   "metadata": {},
   "outputs": [
    {
     "output_type": "stream",
     "name": "stdout",
     "text": [
      "Train on 11227 samples, validate on 2807 samples\n",
      "Epoch 1/25\n",
      "11227/11227 [==============================] - 13s 1ms/sample - loss: 1.4709 - accuracy: 0.3672 - val_loss: 1.1306 - val_accuracy: 0.5358\n",
      "Epoch 2/25\n",
      "11227/11227 [==============================] - 11s 1ms/sample - loss: 1.1257 - accuracy: 0.5458 - val_loss: 0.9417 - val_accuracy: 0.6145\n",
      "Epoch 3/25\n",
      "11227/11227 [==============================] - 11s 1ms/sample - loss: 0.9940 - accuracy: 0.6042 - val_loss: 0.8443 - val_accuracy: 0.6698\n",
      "Epoch 4/25\n",
      "11227/11227 [==============================] - 11s 987us/sample - loss: 0.9037 - accuracy: 0.6363 - val_loss: 0.7757 - val_accuracy: 0.6854\n",
      "Epoch 5/25\n",
      "11227/11227 [==============================] - 11s 979us/sample - loss: 0.8416 - accuracy: 0.6589 - val_loss: 0.8532 - val_accuracy: 0.6641\n",
      "Epoch 6/25\n",
      "11227/11227 [==============================] - 12s 1ms/sample - loss: 0.8166 - accuracy: 0.6786 - val_loss: 0.7653 - val_accuracy: 0.7011\n",
      "Epoch 7/25\n",
      "11227/11227 [==============================] - 12s 1ms/sample - loss: 0.7822 - accuracy: 0.6996 - val_loss: 0.6828 - val_accuracy: 0.7389\n",
      "Epoch 8/25\n",
      "11227/11227 [==============================] - 11s 1ms/sample - loss: 0.7366 - accuracy: 0.7229 - val_loss: 0.6691 - val_accuracy: 0.7503\n",
      "Epoch 9/25\n",
      "11227/11227 [==============================] - 11s 983us/sample - loss: 0.6983 - accuracy: 0.7427 - val_loss: 0.6333 - val_accuracy: 0.7610\n",
      "Epoch 10/25\n",
      "11227/11227 [==============================] - 11s 980us/sample - loss: 0.6481 - accuracy: 0.7655 - val_loss: 0.6833 - val_accuracy: 0.7510\n",
      "Epoch 11/25\n",
      "11227/11227 [==============================] - 11s 981us/sample - loss: 0.6171 - accuracy: 0.7743 - val_loss: 0.5823 - val_accuracy: 0.7880\n",
      "Epoch 12/25\n",
      "11227/11227 [==============================] - 11s 979us/sample - loss: 0.6024 - accuracy: 0.7887 - val_loss: 0.5874 - val_accuracy: 0.7902\n",
      "Epoch 13/25\n",
      "11227/11227 [==============================] - 11s 1ms/sample - loss: 0.5511 - accuracy: 0.8049 - val_loss: 0.5544 - val_accuracy: 0.8105\n",
      "Epoch 14/25\n",
      "11227/11227 [==============================] - 11s 1000us/sample - loss: 0.5333 - accuracy: 0.8097 - val_loss: 0.5404 - val_accuracy: 0.8098\n",
      "Epoch 15/25\n",
      "11227/11227 [==============================] - 12s 1ms/sample - loss: 0.5130 - accuracy: 0.8268 - val_loss: 0.5497 - val_accuracy: 0.8087\n",
      "Epoch 16/25\n",
      "11227/11227 [==============================] - 11s 1ms/sample - loss: 0.5041 - accuracy: 0.8341 - val_loss: 0.4882 - val_accuracy: 0.8315\n",
      "Epoch 17/25\n",
      "11227/11227 [==============================] - 11s 988us/sample - loss: 0.4529 - accuracy: 0.8501 - val_loss: 0.5007 - val_accuracy: 0.8251\n",
      "Epoch 18/25\n",
      "11227/11227 [==============================] - 11s 979us/sample - loss: 0.4310 - accuracy: 0.8513 - val_loss: 0.5576 - val_accuracy: 0.8155\n",
      "Epoch 19/25\n",
      "11227/11227 [==============================] - 11s 978us/sample - loss: 0.4317 - accuracy: 0.8540 - val_loss: 0.5207 - val_accuracy: 0.8126\n",
      "Epoch 20/25\n",
      "11227/11227 [==============================] - 11s 971us/sample - loss: 0.3938 - accuracy: 0.8701 - val_loss: 0.6295 - val_accuracy: 0.8026\n",
      "Epoch 21/25\n",
      "11227/11227 [==============================] - 11s 970us/sample - loss: 0.3874 - accuracy: 0.8710 - val_loss: 0.5248 - val_accuracy: 0.8343\n",
      "Epoch 22/25\n",
      "11227/11227 [==============================] - 11s 975us/sample - loss: 0.3982 - accuracy: 0.8708 - val_loss: 0.5482 - val_accuracy: 0.8183\n",
      "Epoch 23/25\n",
      "11227/11227 [==============================] - 11s 995us/sample - loss: 0.3545 - accuracy: 0.8815 - val_loss: 0.5357 - val_accuracy: 0.8297\n",
      "Epoch 24/25\n",
      "11227/11227 [==============================] - 11s 987us/sample - loss: 0.3456 - accuracy: 0.8868 - val_loss: 0.5465 - val_accuracy: 0.8294\n",
      "Epoch 25/25\n",
      "11227/11227 [==============================] - 11s 984us/sample - loss: 0.3218 - accuracy: 0.8955 - val_loss: 0.5787 - val_accuracy: 0.8261\n"
     ]
    }
   ],
   "source": [
    "run_logdir = get_run_logdir()\n",
    "tensorboard_cb = Callbacks.TensorBoard(run_logdir)\n",
    "\n",
    "history2 = model_5.fit(Images, Labels, \n",
    "                    batch_size=32, \n",
    "                    epochs=100, \n",
    "                    validation_split = 0.2,\n",
    "                    callbacks=[tensorboard_cb])"
   ]
  },
  {
   "cell_type": "code",
   "execution_count": null,
   "metadata": {},
   "outputs": [],
   "source": [
    "model_5.save('saved_model\\\\4x3_2mil_Relu')"
   ]
  },
  {
   "cell_type": "code",
   "execution_count": 57,
   "metadata": {},
   "outputs": [
    {
     "output_type": "stream",
     "name": "stdout",
     "text": [
      "Model: \"sequential_24\"\n_________________________________________________________________\nLayer (type)                 Output Shape              Param #   \n=================================================================\nconv2d_136 (Conv2D)          (None, 150, 150, 16)      448       \n_________________________________________________________________\nconv2d_137 (Conv2D)          (None, 150, 150, 16)      2320      \n_________________________________________________________________\nmax_pooling2d_79 (MaxPooling (None, 75, 75, 16)        0         \n_________________________________________________________________\nconv2d_138 (Conv2D)          (None, 75, 75, 32)        4640      \n_________________________________________________________________\nconv2d_139 (Conv2D)          (None, 75, 75, 32)        9248      \n_________________________________________________________________\nmax_pooling2d_80 (MaxPooling (None, 38, 38, 32)        0         \n_________________________________________________________________\nconv2d_140 (Conv2D)          (None, 38, 38, 64)        18496     \n_________________________________________________________________\nconv2d_141 (Conv2D)          (None, 38, 38, 64)        36928     \n_________________________________________________________________\nmax_pooling2d_81 (MaxPooling (None, 19, 19, 64)        0         \n_________________________________________________________________\nconv2d_142 (Conv2D)          (None, 19, 19, 128)       73856     \n_________________________________________________________________\nconv2d_143 (Conv2D)          (None, 19, 19, 128)       147584    \n_________________________________________________________________\nmax_pooling2d_82 (MaxPooling (None, 10, 10, 128)       0         \n_________________________________________________________________\nconv2d_144 (Conv2D)          (None, 10, 10, 256)       295168    \n_________________________________________________________________\nconv2d_145 (Conv2D)          (None, 10, 10, 256)       590080    \n_________________________________________________________________\nmax_pooling2d_83 (MaxPooling (None, 5, 5, 256)         0         \n_________________________________________________________________\nflatten_24 (Flatten)         (None, 6400)              0         \n_________________________________________________________________\ndense_74 (Dense)             (None, 256)               1638656   \n_________________________________________________________________\ndropout_31 (Dropout)         (None, 256)               0         \n_________________________________________________________________\ndense_75 (Dense)             (None, 128)               32896     \n_________________________________________________________________\ndropout_32 (Dropout)         (None, 128)               0         \n_________________________________________________________________\ndense_76 (Dense)             (None, 64)                8256      \n_________________________________________________________________\ndropout_33 (Dropout)         (None, 64)                0         \n_________________________________________________________________\ndense_77 (Dense)             (None, 32)                2080      \n_________________________________________________________________\ndense_78 (Dense)             (None, 6)                 198       \n=================================================================\nTotal params: 2,860,854\nTrainable params: 2,860,854\nNon-trainable params: 0\n_________________________________________________________________\n"
     ]
    }
   ],
   "source": [
    "model_6 = Models.Sequential()\n",
    "\n",
    "model_6.add(Layers.Conv2D(16,kernel_size=(3,3),activation='relu',input_shape=(150,150,3), padding=\"same\"))\n",
    "model_6.add(Layers.Conv2D(16,kernel_size=(3,3),activation='relu', padding=\"same\"))\n",
    "model_6.add(Layers.MaxPool2D((2,2), strides=2, padding=\"same\"))\n",
    "\n",
    "model_6.add(Layers.Conv2D(32,kernel_size=(3,3),activation='relu', padding=\"same\"))\n",
    "model_6.add(Layers.Conv2D(32,kernel_size=(3,3),activation='relu', padding=\"same\"))\n",
    "model_6.add(Layers.MaxPool2D((2,2), strides=2, padding=\"same\"))\n",
    "\n",
    "model_6.add(Layers.Conv2D(64,kernel_size=(3,3),activation='relu', padding=\"same\"))\n",
    "model_6.add(Layers.Conv2D(64,kernel_size=(3,3),activation='relu', padding=\"same\"))\n",
    "model_6.add(Layers.MaxPool2D((2,2), strides=2, padding=\"same\"))\n",
    "\n",
    "model_6.add(Layers.Conv2D(128,kernel_size=(3,3),activation='relu', padding=\"same\"))\n",
    "model_6.add(Layers.Conv2D(128,kernel_size=(3,3),activation='relu', padding=\"same\"))\n",
    "model_6.add(Layers.MaxPool2D((2,2), strides=2, padding=\"same\"))\n",
    "\n",
    "model_6.add(Layers.Conv2D(256,kernel_size=(3,3),activation='relu', padding=\"same\"))\n",
    "model_6.add(Layers.Conv2D(256,kernel_size=(3,3),activation='relu', padding=\"same\"))\n",
    "model_6.add(Layers.MaxPool2D((2,2), strides=2, padding=\"same\"))\n",
    "\n",
    "model_6.add(Layers.Flatten())\n",
    "model_6.add(Layers.Dense(256,activation='relu'))\n",
    "model_6.add(Layers.Dropout(rate=0.5))\n",
    "model_6.add(Layers.Dense(128,activation='relu'))\n",
    "model_6.add(Layers.Dropout(rate=0.5))\n",
    "model_6.add(Layers.Dense(64,activation='relu'))\n",
    "model_6.add(Layers.Dropout(rate=0.5))\n",
    "model_6.add(Layers.Dense(32,activation='relu'))\n",
    "model.add(Layers.Dropout(rate=0.5))\n",
    "model_6.add(Layers.Dense(6,activation='softmax'))\n",
    "\n",
    "model_6.compile(optimizer=Optimizer.Adam(lr=0.0001),loss='sparse_categorical_crossentropy',metrics=['accuracy'])\n",
    "\n",
    "model_6.summary()"
   ]
  },
  {
   "cell_type": "code",
   "execution_count": null,
   "metadata": {},
   "outputs": [],
   "source": [
    "run_logdir = get_run_logdir()\n",
    "tensorboard_cb = Callbacks.TensorBoard(run_logdir)\n",
    "\n",
    "history2 = model_6.fit(Images, Labels, \n",
    "                    batch_size=32, \n",
    "                    epochs=100, \n",
    "                    validation_split = 0.2,\n",
    "                    callbacks=[tensorboard_cb])"
   ]
  },
  {
   "cell_type": "code",
   "execution_count": null,
   "metadata": {},
   "outputs": [],
   "source": [
    "model_6.save('saved_model\\\\5x2_3mil_Relu')"
   ]
  },
  {
   "cell_type": "code",
   "execution_count": 58,
   "metadata": {},
   "outputs": [
    {
     "output_type": "stream",
     "name": "stdout",
     "text": [
      "Model: \"sequential_25\"\n_________________________________________________________________\nLayer (type)                 Output Shape              Param #   \n=================================================================\nconv2d_146 (Conv2D)          (None, 150, 150, 16)      448       \n_________________________________________________________________\nconv2d_147 (Conv2D)          (None, 150, 150, 16)      2320      \n_________________________________________________________________\nconv2d_148 (Conv2D)          (None, 150, 150, 16)      2320      \n_________________________________________________________________\nmax_pooling2d_84 (MaxPooling (None, 75, 75, 16)        0         \n_________________________________________________________________\nconv2d_149 (Conv2D)          (None, 75, 75, 32)        4640      \n_________________________________________________________________\nconv2d_150 (Conv2D)          (None, 75, 75, 32)        9248      \n_________________________________________________________________\nconv2d_151 (Conv2D)          (None, 75, 75, 32)        9248      \n_________________________________________________________________\nmax_pooling2d_85 (MaxPooling (None, 38, 38, 32)        0         \n_________________________________________________________________\nconv2d_152 (Conv2D)          (None, 38, 38, 64)        18496     \n_________________________________________________________________\nconv2d_153 (Conv2D)          (None, 38, 38, 64)        36928     \n_________________________________________________________________\nconv2d_154 (Conv2D)          (None, 38, 38, 64)        36928     \n_________________________________________________________________\nmax_pooling2d_86 (MaxPooling (None, 19, 19, 64)        0         \n_________________________________________________________________\nconv2d_155 (Conv2D)          (None, 19, 19, 128)       73856     \n_________________________________________________________________\nconv2d_156 (Conv2D)          (None, 19, 19, 128)       147584    \n_________________________________________________________________\nconv2d_157 (Conv2D)          (None, 19, 19, 128)       147584    \n_________________________________________________________________\nmax_pooling2d_87 (MaxPooling (None, 10, 10, 128)       0         \n_________________________________________________________________\nconv2d_158 (Conv2D)          (None, 10, 10, 256)       295168    \n_________________________________________________________________\nconv2d_159 (Conv2D)          (None, 10, 10, 256)       590080    \n_________________________________________________________________\nconv2d_160 (Conv2D)          (None, 10, 10, 256)       590080    \n_________________________________________________________________\nmax_pooling2d_88 (MaxPooling (None, 5, 5, 256)         0         \n_________________________________________________________________\nflatten_25 (Flatten)         (None, 6400)              0         \n_________________________________________________________________\ndense_79 (Dense)             (None, 256)               1638656   \n_________________________________________________________________\ndropout_34 (Dropout)         (None, 256)               0         \n_________________________________________________________________\ndense_80 (Dense)             (None, 128)               32896     \n_________________________________________________________________\ndropout_35 (Dropout)         (None, 128)               0         \n_________________________________________________________________\ndense_81 (Dense)             (None, 64)                8256      \n_________________________________________________________________\ndropout_36 (Dropout)         (None, 64)                0         \n_________________________________________________________________\ndense_82 (Dense)             (None, 32)                2080      \n_________________________________________________________________\ndense_83 (Dense)             (None, 6)                 198       \n=================================================================\nTotal params: 3,647,014\nTrainable params: 3,647,014\nNon-trainable params: 0\n_________________________________________________________________\n"
     ]
    }
   ],
   "source": [
    "model_7 = Models.Sequential()\n",
    "\n",
    "model_7.add(Layers.Conv2D(16,kernel_size=(3,3),activation='relu',input_shape=(150,150,3), padding=\"same\"))\n",
    "model_7.add(Layers.Conv2D(16,kernel_size=(3,3),activation='relu', padding=\"same\"))\n",
    "model_7.add(Layers.Conv2D(16,kernel_size=(3,3),activation='relu', padding=\"same\"))\n",
    "model_7.add(Layers.MaxPool2D((2,2), strides=2, padding=\"same\"))\n",
    "\n",
    "model_7.add(Layers.Conv2D(32,kernel_size=(3,3),activation='relu', padding=\"same\"))\n",
    "model_7.add(Layers.Conv2D(32,kernel_size=(3,3),activation='relu', padding=\"same\"))\n",
    "model_7.add(Layers.Conv2D(32,kernel_size=(3,3),activation='relu', padding=\"same\"))\n",
    "model_7.add(Layers.MaxPool2D((2,2), strides=2, padding=\"same\"))\n",
    "\n",
    "model_7.add(Layers.Conv2D(64,kernel_size=(3,3),activation='relu', padding=\"same\"))\n",
    "model_7.add(Layers.Conv2D(64,kernel_size=(3,3),activation='relu', padding=\"same\"))\n",
    "model_7.add(Layers.Conv2D(64,kernel_size=(3,3),activation='relu', padding=\"same\"))\n",
    "model_7.add(Layers.MaxPool2D((2,2), strides=2, padding=\"same\"))\n",
    "\n",
    "model_7.add(Layers.Conv2D(128,kernel_size=(3,3),activation='relu', padding=\"same\"))\n",
    "model_7.add(Layers.Conv2D(128,kernel_size=(3,3),activation='relu', padding=\"same\"))\n",
    "model_7.add(Layers.Conv2D(128,kernel_size=(3,3),activation='relu', padding=\"same\"))\n",
    "model_7.add(Layers.MaxPool2D((2,2), strides=2, padding=\"same\"))\n",
    "\n",
    "model_7.add(Layers.Conv2D(256,kernel_size=(3,3),activation='relu', padding=\"same\"))\n",
    "model_7.add(Layers.Conv2D(256,kernel_size=(3,3),activation='relu', padding=\"same\"))\n",
    "model_7.add(Layers.Conv2D(256,kernel_size=(3,3),activation='relu', padding=\"same\"))\n",
    "model_7.add(Layers.MaxPool2D((2,2), strides=2, padding=\"same\"))\n",
    "\n",
    "model_7.add(Layers.Flatten())\n",
    "model_7.add(Layers.Dense(256,activation='relu'))\n",
    "model_7.add(Layers.Dropout(rate=0.5))\n",
    "model_7.add(Layers.Dense(128,activation='relu'))\n",
    "model_7.add(Layers.Dropout(rate=0.5))\n",
    "model_7.add(Layers.Dense(64,activation='relu'))\n",
    "model_7.add(Layers.Dropout(rate=0.5))\n",
    "model_7.add(Layers.Dense(32,activation='relu'))\n",
    "model.add(Layers.Dropout(rate=0.5))\n",
    "model_7.add(Layers.Dense(6,activation='softmax'))\n",
    "\n",
    "model_7.compile(optimizer=Optimizer.Adam(lr=0.0001),loss='sparse_categorical_crossentropy',metrics=['accuracy'])\n",
    "\n",
    "model_7.summary()"
   ]
  },
  {
   "cell_type": "code",
   "execution_count": null,
   "metadata": {},
   "outputs": [],
   "source": [
    "run_logdir = get_run_logdir()\n",
    "tensorboard_cb = Callbacks.TensorBoard(run_logdir)\n",
    "\n",
    "history2 = model_7.fit(Images, Labels, \n",
    "                    batch_size=32, \n",
    "                    epochs=100, \n",
    "                    validation_split = 0.2,\n",
    "                    callbacks=[tensorboard_cb])"
   ]
  },
  {
   "cell_type": "code",
   "execution_count": null,
   "metadata": {},
   "outputs": [],
   "source": [
    "model_7.save('saved_model\\\\5x3_3mil_Relu')"
   ]
  },
  {
   "cell_type": "code",
   "execution_count": 11,
   "metadata": {},
   "outputs": [
    {
     "output_type": "stream",
     "name": "stdout",
     "text": [
      "Model: \"sequential_3\"\n_________________________________________________________________\nLayer (type)                 Output Shape              Param #   \n=================================================================\nconv2d_43 (Conv2D)           (None, 150, 150, 16)      448       \n_________________________________________________________________\nconv2d_44 (Conv2D)           (None, 150, 150, 16)      2320      \n_________________________________________________________________\nconv2d_45 (Conv2D)           (None, 150, 150, 32)      4640      \n_________________________________________________________________\nconv2d_46 (Conv2D)           (None, 150, 150, 32)      9248      \n_________________________________________________________________\nmax_pooling2d_15 (MaxPooling (None, 75, 75, 32)        0         \n_________________________________________________________________\nconv2d_47 (Conv2D)           (None, 75, 75, 64)        18496     \n_________________________________________________________________\nconv2d_48 (Conv2D)           (None, 75, 75, 64)        36928     \n_________________________________________________________________\nconv2d_49 (Conv2D)           (None, 75, 75, 128)       73856     \n_________________________________________________________________\nconv2d_50 (Conv2D)           (None, 75, 75, 128)       147584    \n_________________________________________________________________\nmax_pooling2d_16 (MaxPooling (None, 38, 38, 128)       0         \n_________________________________________________________________\nconv2d_51 (Conv2D)           (None, 38, 38, 256)       295168    \n_________________________________________________________________\nconv2d_52 (Conv2D)           (None, 38, 38, 256)       590080    \n_________________________________________________________________\nconv2d_53 (Conv2D)           (None, 38, 38, 384)       885120    \n_________________________________________________________________\nconv2d_54 (Conv2D)           (None, 38, 38, 384)       1327488   \n_________________________________________________________________\nmax_pooling2d_17 (MaxPooling (None, 19, 19, 384)       0         \n_________________________________________________________________\nconv2d_55 (Conv2D)           (None, 19, 19, 512)       1769984   \n_________________________________________________________________\nconv2d_56 (Conv2D)           (None, 19, 19, 512)       2359808   \n_________________________________________________________________\nmax_pooling2d_18 (MaxPooling (None, 10, 10, 512)       0         \n_________________________________________________________________\nflatten_3 (Flatten)          (None, 51200)             0         \n_________________________________________________________________\ndense_16 (Dense)             (None, 512)               26214912  \n_________________________________________________________________\ndropout_13 (Dropout)         (None, 512)               0         \n_________________________________________________________________\ndense_17 (Dense)             (None, 384)               196992    \n_________________________________________________________________\ndropout_14 (Dropout)         (None, 384)               0         \n_________________________________________________________________\ndense_18 (Dense)             (None, 256)               98560     \n_________________________________________________________________\ndropout_15 (Dropout)         (None, 256)               0         \n_________________________________________________________________\ndense_19 (Dense)             (None, 128)               32896     \n_________________________________________________________________\ndropout_16 (Dropout)         (None, 128)               0         \n_________________________________________________________________\ndense_20 (Dense)             (None, 64)                8256      \n_________________________________________________________________\ndropout_17 (Dropout)         (None, 64)                0         \n_________________________________________________________________\ndense_21 (Dense)             (None, 32)                2080      \n_________________________________________________________________\ndropout_18 (Dropout)         (None, 32)                0         \n_________________________________________________________________\ndense_22 (Dense)             (None, 6)                 198       \n=================================================================\nTotal params: 34,075,062\nTrainable params: 34,075,062\nNon-trainable params: 0\n_________________________________________________________________\n"
     ]
    },
    {
     "output_type": "execute_result",
     "data": {
      "text/plain": [
       "'\\nLargest convolution model, 19Mil params\\nlooks like it starts over fitting around 75 epochs, but valadation accuracy continued to increase\\n'"
      ]
     },
     "metadata": {},
     "execution_count": 11
    }
   ],
   "source": [
    "model_8 = Models.Sequential()\n",
    "\n",
    "model_8.add(Layers.Conv2D(16,kernel_size=(3,3),activation='relu',input_shape=(150,150,3), padding=\"same\"))\n",
    "model_8.add(Layers.Conv2D(16,kernel_size=(3,3),activation='relu', padding=\"same\"))\n",
    "model_8.add(Layers.Conv2D(32,kernel_size=(3,3),activation='relu', padding=\"same\"))\n",
    "model_8.add(Layers.Conv2D(32,kernel_size=(3,3),activation='relu', padding=\"same\"))\n",
    "model_8.add(Layers.MaxPool2D((2,2), strides=2, padding=\"same\"))\n",
    "\n",
    "model_8.add(Layers.Conv2D(64,kernel_size=(3,3),activation='relu', padding=\"same\"))\n",
    "model_8.add(Layers.Conv2D(64,kernel_size=(3,3),activation='relu', padding=\"same\"))\n",
    "model_8.add(Layers.Conv2D(128,kernel_size=(3,3),activation='relu', padding=\"same\"))\n",
    "model_8.add(Layers.Conv2D(128,kernel_size=(3,3),activation='relu', padding=\"same\"))\n",
    "model_8.add(Layers.MaxPool2D((2,2), strides=2, padding=\"same\"))\n",
    "\n",
    "model_8.add(Layers.Conv2D(256,kernel_size=(3,3),activation='relu', padding=\"same\"))\n",
    "model_8.add(Layers.Conv2D(256,kernel_size=(3,3),activation='relu', padding=\"same\"))\n",
    "model_8.add(Layers.Conv2D(384,kernel_size=(3,3),activation='relu', padding=\"same\"))\n",
    "model_8.add(Layers.Conv2D(384,kernel_size=(3,3),activation='relu', padding=\"same\"))\n",
    "model_8.add(Layers.MaxPool2D((2,2), strides=2, padding=\"same\"))\n",
    "\n",
    "model_8.add(Layers.Conv2D(512,kernel_size=(3,3),activation='relu', padding=\"same\"))\n",
    "model_8.add(Layers.Conv2D(512,kernel_size=(3,3),activation='relu', padding=\"same\"))\n",
    "model_8.add(Layers.MaxPool2D((2,2), strides=2, padding=\"same\"))\n",
    "\n",
    "model_8.add(Layers.Flatten())\n",
    "\n",
    "model_8.add(Layers.Dense(512,activation='relu'))\n",
    "model_8.add(Layers.Dropout(rate=0.5))\n",
    "\n",
    "model_8.add(Layers.Dense(384,activation='relu'))\n",
    "model_8.add(Layers.Dropout(rate=0.5))\n",
    "\n",
    "model_8.add(Layers.Dense(256,activation='relu'))\n",
    "model_8.add(Layers.Dropout(rate=0.5))\n",
    "\n",
    "model_8.add(Layers.Dense(128,activation='relu'))\n",
    "model_8.add(Layers.Dropout(rate=0.5))\n",
    "\n",
    "model_8.add(Layers.Dense(64,activation='relu'))\n",
    "model_8.add(Layers.Dropout(rate=0.5))\n",
    "\n",
    "model_8.add(Layers.Dense(32,activation='relu'))\n",
    "model_8.add(Layers.Dropout(rate=0.5))\n",
    "\n",
    "model_8.add(Layers.Dense(6,activation='softmax'))\n",
    "\n",
    "model_8.compile(optimizer=Optimizer.Adam(lr=0.00001),loss='sparse_categorical_crossentropy',metrics=['accuracy'])\n",
    "\n",
    "model_8.summary()\n",
    "'''\n",
    "Largest convolution model, 19Mil params\n",
    "looks like it starts over fitting around 75 epochs, but valadation accuracy continued to increase\n",
    "'''"
   ]
  },
  {
   "cell_type": "code",
   "execution_count": 12,
   "metadata": {},
   "outputs": [
    {
     "output_type": "stream",
     "name": "stdout",
     "text": [
      "Train on 11227 samples, validate on 2807 samples\n",
      "Epoch 1/200\n",
      " 4800/11227 [===========>..................] - ETA: 40s - loss: 1.8275 - accuracy: 0.1818"
     ]
    },
    {
     "output_type": "error",
     "ename": "KeyboardInterrupt",
     "evalue": "",
     "traceback": [
      "\u001b[1;31m---------------------------------------------------------------------------\u001b[0m",
      "\u001b[1;31mKeyboardInterrupt\u001b[0m                         Traceback (most recent call last)",
      "\u001b[1;32m<ipython-input-12-9193901d2de5>\u001b[0m in \u001b[0;36m<module>\u001b[1;34m\u001b[0m\n\u001b[0;32m      6\u001b[0m                     \u001b[0mepochs\u001b[0m\u001b[1;33m=\u001b[0m\u001b[1;36m200\u001b[0m\u001b[1;33m,\u001b[0m\u001b[1;33m\u001b[0m\u001b[1;33m\u001b[0m\u001b[0m\n\u001b[0;32m      7\u001b[0m                     \u001b[0mvalidation_split\u001b[0m \u001b[1;33m=\u001b[0m \u001b[1;36m0.2\u001b[0m\u001b[1;33m,\u001b[0m\u001b[1;33m\u001b[0m\u001b[1;33m\u001b[0m\u001b[0m\n\u001b[1;32m----> 8\u001b[1;33m                     callbacks=[tensorboard_cb])\n\u001b[0m",
      "\u001b[1;32mD:\\Anaconda3\\envs\\tf\\lib\\site-packages\\tensorflow_core\\python\\keras\\engine\\training.py\u001b[0m in \u001b[0;36mfit\u001b[1;34m(self, x, y, batch_size, epochs, verbose, callbacks, validation_split, validation_data, shuffle, class_weight, sample_weight, initial_epoch, steps_per_epoch, validation_steps, validation_freq, max_queue_size, workers, use_multiprocessing, **kwargs)\u001b[0m\n\u001b[0;32m    817\u001b[0m         \u001b[0mmax_queue_size\u001b[0m\u001b[1;33m=\u001b[0m\u001b[0mmax_queue_size\u001b[0m\u001b[1;33m,\u001b[0m\u001b[1;33m\u001b[0m\u001b[1;33m\u001b[0m\u001b[0m\n\u001b[0;32m    818\u001b[0m         \u001b[0mworkers\u001b[0m\u001b[1;33m=\u001b[0m\u001b[0mworkers\u001b[0m\u001b[1;33m,\u001b[0m\u001b[1;33m\u001b[0m\u001b[1;33m\u001b[0m\u001b[0m\n\u001b[1;32m--> 819\u001b[1;33m         use_multiprocessing=use_multiprocessing)\n\u001b[0m\u001b[0;32m    820\u001b[0m \u001b[1;33m\u001b[0m\u001b[0m\n\u001b[0;32m    821\u001b[0m   def evaluate(self,\n",
      "\u001b[1;32mD:\\Anaconda3\\envs\\tf\\lib\\site-packages\\tensorflow_core\\python\\keras\\engine\\training_v2.py\u001b[0m in \u001b[0;36mfit\u001b[1;34m(self, model, x, y, batch_size, epochs, verbose, callbacks, validation_split, validation_data, shuffle, class_weight, sample_weight, initial_epoch, steps_per_epoch, validation_steps, validation_freq, max_queue_size, workers, use_multiprocessing, **kwargs)\u001b[0m\n\u001b[0;32m    340\u001b[0m                 \u001b[0mmode\u001b[0m\u001b[1;33m=\u001b[0m\u001b[0mModeKeys\u001b[0m\u001b[1;33m.\u001b[0m\u001b[0mTRAIN\u001b[0m\u001b[1;33m,\u001b[0m\u001b[1;33m\u001b[0m\u001b[1;33m\u001b[0m\u001b[0m\n\u001b[0;32m    341\u001b[0m                 \u001b[0mtraining_context\u001b[0m\u001b[1;33m=\u001b[0m\u001b[0mtraining_context\u001b[0m\u001b[1;33m,\u001b[0m\u001b[1;33m\u001b[0m\u001b[1;33m\u001b[0m\u001b[0m\n\u001b[1;32m--> 342\u001b[1;33m                 total_epochs=epochs)\n\u001b[0m\u001b[0;32m    343\u001b[0m             \u001b[0mcbks\u001b[0m\u001b[1;33m.\u001b[0m\u001b[0mmake_logs\u001b[0m\u001b[1;33m(\u001b[0m\u001b[0mmodel\u001b[0m\u001b[1;33m,\u001b[0m \u001b[0mepoch_logs\u001b[0m\u001b[1;33m,\u001b[0m \u001b[0mtraining_result\u001b[0m\u001b[1;33m,\u001b[0m \u001b[0mModeKeys\u001b[0m\u001b[1;33m.\u001b[0m\u001b[0mTRAIN\u001b[0m\u001b[1;33m)\u001b[0m\u001b[1;33m\u001b[0m\u001b[1;33m\u001b[0m\u001b[0m\n\u001b[0;32m    344\u001b[0m \u001b[1;33m\u001b[0m\u001b[0m\n",
      "\u001b[1;32mD:\\Anaconda3\\envs\\tf\\lib\\site-packages\\tensorflow_core\\python\\keras\\engine\\training_v2.py\u001b[0m in \u001b[0;36mrun_one_epoch\u001b[1;34m(model, iterator, execution_function, dataset_size, batch_size, strategy, steps_per_epoch, num_samples, mode, training_context, total_epochs)\u001b[0m\n\u001b[0;32m    126\u001b[0m         step=step, mode=mode, size=current_batch_size) as batch_logs:\n\u001b[0;32m    127\u001b[0m       \u001b[1;32mtry\u001b[0m\u001b[1;33m:\u001b[0m\u001b[1;33m\u001b[0m\u001b[1;33m\u001b[0m\u001b[0m\n\u001b[1;32m--> 128\u001b[1;33m         \u001b[0mbatch_outs\u001b[0m \u001b[1;33m=\u001b[0m \u001b[0mexecution_function\u001b[0m\u001b[1;33m(\u001b[0m\u001b[0miterator\u001b[0m\u001b[1;33m)\u001b[0m\u001b[1;33m\u001b[0m\u001b[1;33m\u001b[0m\u001b[0m\n\u001b[0m\u001b[0;32m    129\u001b[0m       \u001b[1;32mexcept\u001b[0m \u001b[1;33m(\u001b[0m\u001b[0mStopIteration\u001b[0m\u001b[1;33m,\u001b[0m \u001b[0merrors\u001b[0m\u001b[1;33m.\u001b[0m\u001b[0mOutOfRangeError\u001b[0m\u001b[1;33m)\u001b[0m\u001b[1;33m:\u001b[0m\u001b[1;33m\u001b[0m\u001b[1;33m\u001b[0m\u001b[0m\n\u001b[0;32m    130\u001b[0m         \u001b[1;31m# TODO(kaftan): File bug about tf function and errors.OutOfRangeError?\u001b[0m\u001b[1;33m\u001b[0m\u001b[1;33m\u001b[0m\u001b[1;33m\u001b[0m\u001b[0m\n",
      "\u001b[1;32mD:\\Anaconda3\\envs\\tf\\lib\\site-packages\\tensorflow_core\\python\\keras\\engine\\training_v2_utils.py\u001b[0m in \u001b[0;36mexecution_function\u001b[1;34m(input_fn)\u001b[0m\n\u001b[0;32m     96\u001b[0m     \u001b[1;31m# `numpy` translates Tensors to values in Eager mode.\u001b[0m\u001b[1;33m\u001b[0m\u001b[1;33m\u001b[0m\u001b[1;33m\u001b[0m\u001b[0m\n\u001b[0;32m     97\u001b[0m     return nest.map_structure(_non_none_constant_value,\n\u001b[1;32m---> 98\u001b[1;33m                               distributed_function(input_fn))\n\u001b[0m\u001b[0;32m     99\u001b[0m \u001b[1;33m\u001b[0m\u001b[0m\n\u001b[0;32m    100\u001b[0m   \u001b[1;32mreturn\u001b[0m \u001b[0mexecution_function\u001b[0m\u001b[1;33m\u001b[0m\u001b[1;33m\u001b[0m\u001b[0m\n",
      "\u001b[1;32mD:\\Anaconda3\\envs\\tf\\lib\\site-packages\\tensorflow_core\\python\\util\\nest.py\u001b[0m in \u001b[0;36mmap_structure\u001b[1;34m(func, *structure, **kwargs)\u001b[0m\n\u001b[0;32m    566\u001b[0m \u001b[1;33m\u001b[0m\u001b[0m\n\u001b[0;32m    567\u001b[0m   return pack_sequence_as(\n\u001b[1;32m--> 568\u001b[1;33m       \u001b[0mstructure\u001b[0m\u001b[1;33m[\u001b[0m\u001b[1;36m0\u001b[0m\u001b[1;33m]\u001b[0m\u001b[1;33m,\u001b[0m \u001b[1;33m[\u001b[0m\u001b[0mfunc\u001b[0m\u001b[1;33m(\u001b[0m\u001b[1;33m*\u001b[0m\u001b[0mx\u001b[0m\u001b[1;33m)\u001b[0m \u001b[1;32mfor\u001b[0m \u001b[0mx\u001b[0m \u001b[1;32min\u001b[0m \u001b[0mentries\u001b[0m\u001b[1;33m]\u001b[0m\u001b[1;33m,\u001b[0m\u001b[1;33m\u001b[0m\u001b[1;33m\u001b[0m\u001b[0m\n\u001b[0m\u001b[0;32m    569\u001b[0m       expand_composites=expand_composites)\n\u001b[0;32m    570\u001b[0m \u001b[1;33m\u001b[0m\u001b[0m\n",
      "\u001b[1;32mD:\\Anaconda3\\envs\\tf\\lib\\site-packages\\tensorflow_core\\python\\util\\nest.py\u001b[0m in \u001b[0;36m<listcomp>\u001b[1;34m(.0)\u001b[0m\n\u001b[0;32m    566\u001b[0m \u001b[1;33m\u001b[0m\u001b[0m\n\u001b[0;32m    567\u001b[0m   return pack_sequence_as(\n\u001b[1;32m--> 568\u001b[1;33m       \u001b[0mstructure\u001b[0m\u001b[1;33m[\u001b[0m\u001b[1;36m0\u001b[0m\u001b[1;33m]\u001b[0m\u001b[1;33m,\u001b[0m \u001b[1;33m[\u001b[0m\u001b[0mfunc\u001b[0m\u001b[1;33m(\u001b[0m\u001b[1;33m*\u001b[0m\u001b[0mx\u001b[0m\u001b[1;33m)\u001b[0m \u001b[1;32mfor\u001b[0m \u001b[0mx\u001b[0m \u001b[1;32min\u001b[0m \u001b[0mentries\u001b[0m\u001b[1;33m]\u001b[0m\u001b[1;33m,\u001b[0m\u001b[1;33m\u001b[0m\u001b[1;33m\u001b[0m\u001b[0m\n\u001b[0m\u001b[0;32m    569\u001b[0m       expand_composites=expand_composites)\n\u001b[0;32m    570\u001b[0m \u001b[1;33m\u001b[0m\u001b[0m\n",
      "\u001b[1;32mD:\\Anaconda3\\envs\\tf\\lib\\site-packages\\tensorflow_core\\python\\keras\\engine\\training_v2_utils.py\u001b[0m in \u001b[0;36m_non_none_constant_value\u001b[1;34m(v)\u001b[0m\n\u001b[0;32m    128\u001b[0m \u001b[1;33m\u001b[0m\u001b[0m\n\u001b[0;32m    129\u001b[0m \u001b[1;32mdef\u001b[0m \u001b[0m_non_none_constant_value\u001b[0m\u001b[1;33m(\u001b[0m\u001b[0mv\u001b[0m\u001b[1;33m)\u001b[0m\u001b[1;33m:\u001b[0m\u001b[1;33m\u001b[0m\u001b[1;33m\u001b[0m\u001b[0m\n\u001b[1;32m--> 130\u001b[1;33m   \u001b[0mconstant_value\u001b[0m \u001b[1;33m=\u001b[0m \u001b[0mtensor_util\u001b[0m\u001b[1;33m.\u001b[0m\u001b[0mconstant_value\u001b[0m\u001b[1;33m(\u001b[0m\u001b[0mv\u001b[0m\u001b[1;33m)\u001b[0m\u001b[1;33m\u001b[0m\u001b[1;33m\u001b[0m\u001b[0m\n\u001b[0m\u001b[0;32m    131\u001b[0m   \u001b[1;32mreturn\u001b[0m \u001b[0mconstant_value\u001b[0m \u001b[1;32mif\u001b[0m \u001b[0mconstant_value\u001b[0m \u001b[1;32mis\u001b[0m \u001b[1;32mnot\u001b[0m \u001b[1;32mNone\u001b[0m \u001b[1;32melse\u001b[0m \u001b[0mv\u001b[0m\u001b[1;33m\u001b[0m\u001b[1;33m\u001b[0m\u001b[0m\n\u001b[0;32m    132\u001b[0m \u001b[1;33m\u001b[0m\u001b[0m\n",
      "\u001b[1;32mD:\\Anaconda3\\envs\\tf\\lib\\site-packages\\tensorflow_core\\python\\framework\\tensor_util.py\u001b[0m in \u001b[0;36mconstant_value\u001b[1;34m(tensor, partial)\u001b[0m\n\u001b[0;32m    820\u001b[0m   \"\"\"\n\u001b[0;32m    821\u001b[0m   \u001b[1;32mif\u001b[0m \u001b[0misinstance\u001b[0m\u001b[1;33m(\u001b[0m\u001b[0mtensor\u001b[0m\u001b[1;33m,\u001b[0m \u001b[0mops\u001b[0m\u001b[1;33m.\u001b[0m\u001b[0mEagerTensor\u001b[0m\u001b[1;33m)\u001b[0m\u001b[1;33m:\u001b[0m\u001b[1;33m\u001b[0m\u001b[1;33m\u001b[0m\u001b[0m\n\u001b[1;32m--> 822\u001b[1;33m     \u001b[1;32mreturn\u001b[0m \u001b[0mtensor\u001b[0m\u001b[1;33m.\u001b[0m\u001b[0mnumpy\u001b[0m\u001b[1;33m(\u001b[0m\u001b[1;33m)\u001b[0m\u001b[1;33m\u001b[0m\u001b[1;33m\u001b[0m\u001b[0m\n\u001b[0m\u001b[0;32m    823\u001b[0m   \u001b[1;32mif\u001b[0m \u001b[1;32mnot\u001b[0m \u001b[0mis_tensor\u001b[0m\u001b[1;33m(\u001b[0m\u001b[0mtensor\u001b[0m\u001b[1;33m)\u001b[0m\u001b[1;33m:\u001b[0m\u001b[1;33m\u001b[0m\u001b[1;33m\u001b[0m\u001b[0m\n\u001b[0;32m    824\u001b[0m     \u001b[1;32mreturn\u001b[0m \u001b[0mtensor\u001b[0m\u001b[1;33m\u001b[0m\u001b[1;33m\u001b[0m\u001b[0m\n",
      "\u001b[1;32mD:\\Anaconda3\\envs\\tf\\lib\\site-packages\\tensorflow_core\\python\\framework\\ops.py\u001b[0m in \u001b[0;36mnumpy\u001b[1;34m(self)\u001b[0m\n\u001b[0;32m    940\u001b[0m     \"\"\"\n\u001b[0;32m    941\u001b[0m     \u001b[1;31m# TODO(slebedev): Consider avoiding a copy for non-CPU or remote tensors.\u001b[0m\u001b[1;33m\u001b[0m\u001b[1;33m\u001b[0m\u001b[1;33m\u001b[0m\u001b[0m\n\u001b[1;32m--> 942\u001b[1;33m     \u001b[0mmaybe_arr\u001b[0m \u001b[1;33m=\u001b[0m \u001b[0mself\u001b[0m\u001b[1;33m.\u001b[0m\u001b[0m_numpy\u001b[0m\u001b[1;33m(\u001b[0m\u001b[1;33m)\u001b[0m  \u001b[1;31m# pylint: disable=protected-access\u001b[0m\u001b[1;33m\u001b[0m\u001b[1;33m\u001b[0m\u001b[0m\n\u001b[0m\u001b[0;32m    943\u001b[0m     \u001b[1;32mreturn\u001b[0m \u001b[0mmaybe_arr\u001b[0m\u001b[1;33m.\u001b[0m\u001b[0mcopy\u001b[0m\u001b[1;33m(\u001b[0m\u001b[1;33m)\u001b[0m \u001b[1;32mif\u001b[0m \u001b[0misinstance\u001b[0m\u001b[1;33m(\u001b[0m\u001b[0mmaybe_arr\u001b[0m\u001b[1;33m,\u001b[0m \u001b[0mnp\u001b[0m\u001b[1;33m.\u001b[0m\u001b[0mndarray\u001b[0m\u001b[1;33m)\u001b[0m \u001b[1;32melse\u001b[0m \u001b[0mmaybe_arr\u001b[0m\u001b[1;33m\u001b[0m\u001b[1;33m\u001b[0m\u001b[0m\n\u001b[0;32m    944\u001b[0m \u001b[1;33m\u001b[0m\u001b[0m\n",
      "\u001b[1;32mD:\\Anaconda3\\envs\\tf\\lib\\site-packages\\tensorflow_core\\python\\framework\\ops.py\u001b[0m in \u001b[0;36m_numpy\u001b[1;34m(self)\u001b[0m\n\u001b[0;32m    906\u001b[0m     \u001b[1;31m# pylint: disable=protected-access\u001b[0m\u001b[1;33m\u001b[0m\u001b[1;33m\u001b[0m\u001b[1;33m\u001b[0m\u001b[0m\n\u001b[0;32m    907\u001b[0m     \u001b[1;32mtry\u001b[0m\u001b[1;33m:\u001b[0m\u001b[1;33m\u001b[0m\u001b[1;33m\u001b[0m\u001b[0m\n\u001b[1;32m--> 908\u001b[1;33m       \u001b[1;32mreturn\u001b[0m \u001b[0mself\u001b[0m\u001b[1;33m.\u001b[0m\u001b[0m_numpy_internal\u001b[0m\u001b[1;33m(\u001b[0m\u001b[1;33m)\u001b[0m\u001b[1;33m\u001b[0m\u001b[1;33m\u001b[0m\u001b[0m\n\u001b[0m\u001b[0;32m    909\u001b[0m     \u001b[1;32mexcept\u001b[0m \u001b[0mcore\u001b[0m\u001b[1;33m.\u001b[0m\u001b[0m_NotOkStatusException\u001b[0m \u001b[1;32mas\u001b[0m \u001b[0me\u001b[0m\u001b[1;33m:\u001b[0m\u001b[1;33m\u001b[0m\u001b[1;33m\u001b[0m\u001b[0m\n\u001b[0;32m    910\u001b[0m       \u001b[0msix\u001b[0m\u001b[1;33m.\u001b[0m\u001b[0mraise_from\u001b[0m\u001b[1;33m(\u001b[0m\u001b[0mcore\u001b[0m\u001b[1;33m.\u001b[0m\u001b[0m_status_to_exception\u001b[0m\u001b[1;33m(\u001b[0m\u001b[0me\u001b[0m\u001b[1;33m.\u001b[0m\u001b[0mcode\u001b[0m\u001b[1;33m,\u001b[0m \u001b[0me\u001b[0m\u001b[1;33m.\u001b[0m\u001b[0mmessage\u001b[0m\u001b[1;33m)\u001b[0m\u001b[1;33m,\u001b[0m \u001b[1;32mNone\u001b[0m\u001b[1;33m)\u001b[0m\u001b[1;33m\u001b[0m\u001b[1;33m\u001b[0m\u001b[0m\n",
      "\u001b[1;31mKeyboardInterrupt\u001b[0m: "
     ]
    }
   ],
   "source": [
    "run_logdir = get_run_logdir()\n",
    "tensorboard_cb = Callbacks.TensorBoard(run_logdir)\n",
    "\n",
    "history2 = model_8.fit(Images, Labels, \n",
    "                    batch_size=32, \n",
    "                    epochs=200, \n",
    "                    validation_split = 0.2,\n",
    "                    callbacks=[tensorboard_cb])"
   ]
  },
  {
   "cell_type": "code",
   "execution_count": null,
   "metadata": {},
   "outputs": [],
   "source": [
    "model_8.save('saved_model\\\\4xMixed_34mil_Relu')"
   ]
  },
  {
   "cell_type": "code",
   "execution_count": 6,
   "metadata": {},
   "outputs": [
    {
     "output_type": "stream",
     "name": "stdout",
     "text": [
      "Model: \"sequential_2\"\n_________________________________________________________________\nLayer (type)                 Output Shape              Param #   \n=================================================================\nconv2d_36 (Conv2D)           (None, 150, 150, 16)      448       \n_________________________________________________________________\nmax_pooling2d_8 (MaxPooling2 (None, 75, 75, 16)        0         \n_________________________________________________________________\nconv2d_37 (Conv2D)           (None, 75, 75, 32)        4640      \n_________________________________________________________________\nmax_pooling2d_9 (MaxPooling2 (None, 38, 38, 32)        0         \n_________________________________________________________________\nconv2d_38 (Conv2D)           (None, 38, 38, 64)        18496     \n_________________________________________________________________\nmax_pooling2d_10 (MaxPooling (None, 19, 19, 64)        0         \n_________________________________________________________________\nconv2d_39 (Conv2D)           (None, 19, 19, 128)       73856     \n_________________________________________________________________\nmax_pooling2d_11 (MaxPooling (None, 10, 10, 128)       0         \n_________________________________________________________________\nconv2d_40 (Conv2D)           (None, 10, 10, 256)       295168    \n_________________________________________________________________\nmax_pooling2d_12 (MaxPooling (None, 5, 5, 256)         0         \n_________________________________________________________________\nconv2d_41 (Conv2D)           (None, 5, 5, 384)         885120    \n_________________________________________________________________\nmax_pooling2d_13 (MaxPooling (None, 3, 3, 384)         0         \n_________________________________________________________________\nconv2d_42 (Conv2D)           (None, 3, 3, 512)         1769984   \n_________________________________________________________________\nmax_pooling2d_14 (MaxPooling (None, 2, 2, 512)         0         \n_________________________________________________________________\nflatten_2 (Flatten)          (None, 2048)              0         \n_________________________________________________________________\ndense_9 (Dense)              (None, 512)               1049088   \n_________________________________________________________________\ndropout_7 (Dropout)          (None, 512)               0         \n_________________________________________________________________\ndense_10 (Dense)             (None, 384)               196992    \n_________________________________________________________________\ndropout_8 (Dropout)          (None, 384)               0         \n_________________________________________________________________\ndense_11 (Dense)             (None, 256)               98560     \n_________________________________________________________________\ndropout_9 (Dropout)          (None, 256)               0         \n_________________________________________________________________\ndense_12 (Dense)             (None, 128)               32896     \n_________________________________________________________________\ndropout_10 (Dropout)         (None, 128)               0         \n_________________________________________________________________\ndense_13 (Dense)             (None, 64)                8256      \n_________________________________________________________________\ndropout_11 (Dropout)         (None, 64)                0         \n_________________________________________________________________\ndense_14 (Dense)             (None, 32)                2080      \n_________________________________________________________________\ndropout_12 (Dropout)         (None, 32)                0         \n_________________________________________________________________\ndense_15 (Dense)             (None, 6)                 198       \n=================================================================\nTotal params: 4,435,782\nTrainable params: 4,435,782\nNon-trainable params: 0\n_________________________________________________________________\n"
     ]
    }
   ],
   "source": [
    "model_9 = Models.Sequential()\n",
    "\n",
    "model_9.add(Layers.Conv2D(16,kernel_size=(3,3),activation='relu',input_shape=(150,150,3), padding=\"same\"))\n",
    "model_9.add(Layers.MaxPool2D((2,2), strides=2, padding=\"same\"))\n",
    "\n",
    "model_9.add(Layers.Conv2D(32,kernel_size=(3,3),activation='relu', padding=\"same\"))\n",
    "model_9.add(Layers.MaxPool2D((2,2), strides=2, padding=\"same\"))\n",
    "\n",
    "model_9.add(Layers.Conv2D(64,kernel_size=(3,3),activation='relu', padding=\"same\"))\n",
    "model_9.add(Layers.MaxPool2D((2,2), strides=2, padding=\"same\"))\n",
    "\n",
    "model_9.add(Layers.Conv2D(128,kernel_size=(3,3),activation='relu', padding=\"same\"))\n",
    "model_9.add(Layers.MaxPool2D((2,2), strides=2, padding=\"same\"))\n",
    "\n",
    "model_9.add(Layers.Conv2D(256,kernel_size=(3,3),activation='relu', padding=\"same\"))\n",
    "model_9.add(Layers.MaxPool2D((2,2), strides=2, padding=\"same\"))\n",
    "\n",
    "model_9.add(Layers.Conv2D(384,kernel_size=(3,3),activation='relu', padding=\"same\"))\n",
    "model_9.add(Layers.MaxPool2D((2,2), strides=2, padding=\"same\"))\n",
    "\n",
    "model_9.add(Layers.Conv2D(512,kernel_size=(3,3),activation='relu', padding=\"same\"))\n",
    "model_9.add(Layers.MaxPool2D((2,2), strides=2, padding=\"same\"))\n",
    "\n",
    "model_9.add(Layers.Flatten())\n",
    "\n",
    "model_9.add(Layers.Dense(512,activation='relu'))\n",
    "model_9.add(Layers.Dropout(rate=0.5))\n",
    "model_9.add(Layers.Dense(384,activation='relu'))\n",
    "model_9.add(Layers.Dropout(rate=0.5))\n",
    "model_9.add(Layers.Dense(256,activation='relu'))\n",
    "model_9.add(Layers.Dropout(rate=0.5))\n",
    "model_9.add(Layers.Dense(128,activation='relu'))\n",
    "model_9.add(Layers.Dropout(rate=0.5))\n",
    "model_9.add(Layers.Dense(64,activation='relu'))\n",
    "model_9.add(Layers.Dropout(rate=0.5))\n",
    "model_9.add(Layers.Dense(32,activation='relu'))\n",
    "model_9.add(Layers.Dropout(rate=0.5))\n",
    "\n",
    "model_9.add(Layers.Dense(6,activation='softmax'))\n",
    "\n",
    "model_9.compile(optimizer=Optimizer.Adam(lr=0.00001),loss='sparse_categorical_crossentropy',metrics=['accuracy'])\n",
    "\n",
    "model_9.summary()"
   ]
  },
  {
   "cell_type": "code",
   "execution_count": 64,
   "metadata": {},
   "outputs": [
    {
     "output_type": "stream",
     "name": "stdout",
     "text": [
      "Train on 11227 samples, validate on 2807 samples\n",
      "Epoch 1/25\n",
      "11227/11227 [==============================] - 7s 662us/sample - loss: 2.7197 - accuracy: 0.1634 - val_loss: 1.7834 - val_accuracy: 0.2284\n",
      "Epoch 2/25\n",
      "11227/11227 [==============================] - 6s 565us/sample - loss: 1.8174 - accuracy: 0.1662 - val_loss: 1.7882 - val_accuracy: 0.2309\n",
      "Epoch 3/25\n",
      "11227/11227 [==============================] - 7s 580us/sample - loss: 1.8010 - accuracy: 0.1703 - val_loss: 1.7854 - val_accuracy: 0.2408\n",
      "Epoch 4/25\n",
      "11227/11227 [==============================] - 6s 565us/sample - loss: 1.7954 - accuracy: 0.1724 - val_loss: 1.7895 - val_accuracy: 0.2145\n",
      "Epoch 5/25\n",
      "11227/11227 [==============================] - 6s 572us/sample - loss: 1.7923 - accuracy: 0.1726 - val_loss: 1.7879 - val_accuracy: 0.2291\n",
      "Epoch 6/25\n",
      "11227/11227 [==============================] - 6s 565us/sample - loss: 1.7913 - accuracy: 0.1802 - val_loss: 1.7896 - val_accuracy: 0.2180\n",
      "Epoch 7/25\n",
      "11227/11227 [==============================] - 6s 527us/sample - loss: 1.7910 - accuracy: 0.1834 - val_loss: 1.7892 - val_accuracy: 0.2351\n",
      "Epoch 8/25\n",
      "11227/11227 [==============================] - 6s 553us/sample - loss: 1.7894 - accuracy: 0.1857 - val_loss: 1.7905 - val_accuracy: 0.1906\n",
      "Epoch 9/25\n",
      "11227/11227 [==============================] - 6s 567us/sample - loss: 1.7861 - accuracy: 0.1887 - val_loss: 1.7869 - val_accuracy: 0.2358\n",
      "Epoch 10/25\n",
      "11227/11227 [==============================] - 6s 537us/sample - loss: 1.7863 - accuracy: 0.1879 - val_loss: 1.7771 - val_accuracy: 0.2041\n",
      "Epoch 11/25\n",
      "11227/11227 [==============================] - 6s 522us/sample - loss: 1.7827 - accuracy: 0.1903 - val_loss: 1.7738 - val_accuracy: 0.2732\n",
      "Epoch 12/25\n",
      "11227/11227 [==============================] - 6s 556us/sample - loss: 1.7769 - accuracy: 0.1965 - val_loss: 1.7577 - val_accuracy: 0.2266\n",
      "Epoch 13/25\n",
      "11227/11227 [==============================] - 6s 570us/sample - loss: 1.7663 - accuracy: 0.2066 - val_loss: 1.7573 - val_accuracy: 0.2533\n",
      "Epoch 14/25\n",
      "11227/11227 [==============================] - 6s 568us/sample - loss: 1.7553 - accuracy: 0.2296 - val_loss: 1.7366 - val_accuracy: 0.2740\n",
      "Epoch 15/25\n",
      "11227/11227 [==============================] - 6s 573us/sample - loss: 1.7397 - accuracy: 0.2533 - val_loss: 1.7262 - val_accuracy: 0.2975\n",
      "Epoch 16/25\n",
      "11227/11227 [==============================] - 6s 578us/sample - loss: 1.7272 - accuracy: 0.2706 - val_loss: 1.6960 - val_accuracy: 0.2768\n",
      "Epoch 17/25\n",
      "11227/11227 [==============================] - 6s 571us/sample - loss: 1.7089 - accuracy: 0.2734 - val_loss: 1.6892 - val_accuracy: 0.3128\n",
      "Epoch 18/25\n",
      "11227/11227 [==============================] - 6s 575us/sample - loss: 1.6938 - accuracy: 0.2930 - val_loss: 1.6831 - val_accuracy: 0.3363\n",
      "Epoch 19/25\n",
      "11227/11227 [==============================] - 6s 518us/sample - loss: 1.6761 - accuracy: 0.2987 - val_loss: 1.6476 - val_accuracy: 0.3156\n",
      "Epoch 20/25\n",
      "11227/11227 [==============================] - 6s 579us/sample - loss: 1.6616 - accuracy: 0.3015 - val_loss: 1.6449 - val_accuracy: 0.3416\n",
      "Epoch 21/25\n",
      "11227/11227 [==============================] - 6s 570us/sample - loss: 1.6490 - accuracy: 0.3085 - val_loss: 1.6238 - val_accuracy: 0.3409\n",
      "Epoch 22/25\n",
      "11227/11227 [==============================] - 6s 577us/sample - loss: 1.6402 - accuracy: 0.3156 - val_loss: 1.5985 - val_accuracy: 0.2993\n",
      "Epoch 23/25\n",
      "11227/11227 [==============================] - 6s 576us/sample - loss: 1.6214 - accuracy: 0.3226 - val_loss: 1.6186 - val_accuracy: 0.4004\n",
      "Epoch 24/25\n",
      "11227/11227 [==============================] - 6s 570us/sample - loss: 1.6221 - accuracy: 0.3216 - val_loss: 1.5769 - val_accuracy: 0.4061\n",
      "Epoch 25/25\n",
      "11227/11227 [==============================] - 7s 581us/sample - loss: 1.6066 - accuracy: 0.3278 - val_loss: 1.5782 - val_accuracy: 0.3609\n"
     ]
    }
   ],
   "source": [
    "run_logdir = get_run_logdir()\n",
    "tensorboard_cb = Callbacks.TensorBoard(run_logdir)\n",
    "\n",
    "history2 = model_9.fit(Images, Labels, \n",
    "                    batch_size=32, \n",
    "                    epochs=200, \n",
    "                    validation_split = 0.2,\n",
    "                    callbacks=[tensorboard_cb])"
   ]
  },
  {
   "cell_type": "code",
   "execution_count": null,
   "metadata": {},
   "outputs": [],
   "source": [
    "model_9.save('saved_model\\\\7x1_4mil_Relu')"
   ]
  },
  {
   "cell_type": "code",
   "execution_count": null,
   "metadata": {},
   "outputs": [],
   "source": [
    "# !tensorboard --logdir=./my_logs --port=6006"
   ]
  },
  {
   "cell_type": "code",
   "execution_count": 5,
   "metadata": {},
   "outputs": [
    {
     "output_type": "stream",
     "name": "stdout",
     "text": [
      "Model: \"sequential_1\"\n_________________________________________________________________\nLayer (type)                 Output Shape              Param #   \n=================================================================\nconv2d_16 (Conv2D)           (None, 150, 150, 16)      448       \n_________________________________________________________________\nconv2d_17 (Conv2D)           (None, 150, 150, 32)      4640      \n_________________________________________________________________\nconv2d_18 (Conv2D)           (None, 150, 150, 64)      18496     \n_________________________________________________________________\nconv2d_19 (Conv2D)           (None, 150, 150, 128)     73856     \n_________________________________________________________________\nconv2d_20 (Conv2D)           (None, 150, 150, 256)     295168    \n_________________________________________________________________\nmax_pooling2d_4 (MaxPooling2 (None, 75, 75, 256)       0         \n_________________________________________________________________\nconv2d_21 (Conv2D)           (None, 75, 75, 16)        36880     \n_________________________________________________________________\nconv2d_22 (Conv2D)           (None, 75, 75, 32)        4640      \n_________________________________________________________________\nconv2d_23 (Conv2D)           (None, 75, 75, 64)        18496     \n_________________________________________________________________\nconv2d_24 (Conv2D)           (None, 75, 75, 128)       73856     \n_________________________________________________________________\nconv2d_25 (Conv2D)           (None, 75, 75, 256)       295168    \n_________________________________________________________________\nmax_pooling2d_5 (MaxPooling2 (None, 38, 38, 256)       0         \n_________________________________________________________________\nconv2d_26 (Conv2D)           (None, 38, 38, 16)        36880     \n_________________________________________________________________\nconv2d_27 (Conv2D)           (None, 38, 38, 32)        4640      \n_________________________________________________________________\nconv2d_28 (Conv2D)           (None, 38, 38, 64)        18496     \n_________________________________________________________________\nconv2d_29 (Conv2D)           (None, 38, 38, 128)       73856     \n_________________________________________________________________\nconv2d_30 (Conv2D)           (None, 38, 38, 256)       295168    \n_________________________________________________________________\nmax_pooling2d_6 (MaxPooling2 (None, 19, 19, 256)       0         \n_________________________________________________________________\nconv2d_31 (Conv2D)           (None, 19, 19, 16)        36880     \n_________________________________________________________________\nconv2d_32 (Conv2D)           (None, 19, 19, 32)        4640      \n_________________________________________________________________\nconv2d_33 (Conv2D)           (None, 19, 19, 64)        18496     \n_________________________________________________________________\nconv2d_34 (Conv2D)           (None, 19, 19, 128)       73856     \n_________________________________________________________________\nconv2d_35 (Conv2D)           (None, 19, 19, 256)       295168    \n_________________________________________________________________\nmax_pooling2d_7 (MaxPooling2 (None, 10, 10, 256)       0         \n_________________________________________________________________\nflatten_1 (Flatten)          (None, 25600)             0         \n_________________________________________________________________\ndense_4 (Dense)              (None, 256)               6553856   \n_________________________________________________________________\ndropout_3 (Dropout)          (None, 256)               0         \n_________________________________________________________________\ndense_5 (Dense)              (None, 128)               32896     \n_________________________________________________________________\ndropout_4 (Dropout)          (None, 128)               0         \n_________________________________________________________________\ndense_6 (Dense)              (None, 64)                8256      \n_________________________________________________________________\ndropout_5 (Dropout)          (None, 64)                0         \n_________________________________________________________________\ndense_7 (Dense)              (None, 32)                2080      \n_________________________________________________________________\ndropout_6 (Dropout)          (None, 32)                0         \n_________________________________________________________________\ndense_8 (Dense)              (None, 6)                 198       \n=================================================================\nTotal params: 8,277,014\nTrainable params: 8,277,014\nNon-trainable params: 0\n_________________________________________________________________\n"
     ]
    }
   ],
   "source": [
    "model_10 = Models.Sequential()\n",
    "\n",
    "model_10.add(Layers.Conv2D(16,kernel_size=(3,3),activation='relu',input_shape=(150,150,3), padding=\"same\"))\n",
    "model_10.add(Layers.Conv2D(32,kernel_size=(3,3),activation='relu', padding=\"same\"))\n",
    "model_10.add(Layers.Conv2D(64,kernel_size=(3,3),activation='relu', padding=\"same\"))\n",
    "model_10.add(Layers.Conv2D(128,kernel_size=(3,3),activation='relu', padding=\"same\"))\n",
    "model_10.add(Layers.Conv2D(256,kernel_size=(3,3),activation='relu', padding=\"same\"))\n",
    "model_10.add(Layers.MaxPool2D((2,2), strides=2, padding=\"same\"))\n",
    "\n",
    "model_10.add(Layers.Conv2D(16,kernel_size=(3,3),activation='relu', padding=\"same\"))\n",
    "model_10.add(Layers.Conv2D(32,kernel_size=(3,3),activation='relu', padding=\"same\"))\n",
    "model_10.add(Layers.Conv2D(64,kernel_size=(3,3),activation='relu', padding=\"same\"))\n",
    "model_10.add(Layers.Conv2D(128,kernel_size=(3,3),activation='relu', padding=\"same\"))\n",
    "model_10.add(Layers.Conv2D(256,kernel_size=(3,3),activation='relu', padding=\"same\"))\n",
    "model_10.add(Layers.MaxPool2D((2,2), strides=2, padding=\"same\"))\n",
    "\n",
    "model_10.add(Layers.Conv2D(16,kernel_size=(3,3),activation='relu', padding=\"same\"))\n",
    "model_10.add(Layers.Conv2D(32,kernel_size=(3,3),activation='relu', padding=\"same\"))\n",
    "model_10.add(Layers.Conv2D(64,kernel_size=(3,3),activation='relu', padding=\"same\"))\n",
    "model_10.add(Layers.Conv2D(128,kernel_size=(3,3),activation='relu', padding=\"same\"))\n",
    "model_10.add(Layers.Conv2D(256,kernel_size=(3,3),activation='relu', padding=\"same\"))\n",
    "model_10.add(Layers.MaxPool2D((2,2), strides=2, padding=\"same\"))\n",
    "\n",
    "model_10.add(Layers.Conv2D(16,kernel_size=(3,3),activation='relu', padding=\"same\"))\n",
    "model_10.add(Layers.Conv2D(32,kernel_size=(3,3),activation='relu', padding=\"same\"))\n",
    "model_10.add(Layers.Conv2D(64,kernel_size=(3,3),activation='relu', padding=\"same\"))\n",
    "model_10.add(Layers.Conv2D(128,kernel_size=(3,3),activation='relu', padding=\"same\"))\n",
    "model_10.add(Layers.Conv2D(256,kernel_size=(3,3),activation='relu', padding=\"same\"))\n",
    "model_10.add(Layers.MaxPool2D((2,2), strides=2, padding=\"same\"))\n",
    "\n",
    "model_10.add(Layers.Flatten())\n",
    "\n",
    "model_10.add(Layers.Dense(256,activation='relu'))\n",
    "model_10.add(Layers.Dropout(rate=0.5))\n",
    "model_10.add(Layers.Dense(128,activation='relu'))\n",
    "model_10.add(Layers.Dropout(rate=0.5))\n",
    "model_10.add(Layers.Dense(64,activation='relu'))\n",
    "model_10.add(Layers.Dropout(rate=0.5))\n",
    "model_10.add(Layers.Dense(32,activation='relu'))\n",
    "model_10.add(Layers.Dropout(rate=0.5))\n",
    "\n",
    "model_10.add(Layers.Dense(6,activation='softmax'))\n",
    "\n",
    "model_10.compile(optimizer=Optimizer.Adam(lr=0.00001),loss='sparse_categorical_crossentropy',metrics=['accuracy'])\n",
    "\n",
    "model_10.summary()"
   ]
  },
  {
   "cell_type": "code",
   "execution_count": null,
   "metadata": {},
   "outputs": [],
   "source": [
    "run_logdir = get_run_logdir()\n",
    "tensorboard_cb = Callbacks.TensorBoard(run_logdir)\n",
    "\n",
    "history2 = model_10.fit(Images, Labels, \n",
    "                    batch_size=32, \n",
    "                    epochs=200, \n",
    "                    validation_split = 0.2,\n",
    "                    callbacks=[tensorboard_cb])"
   ]
  },
  {
   "cell_type": "code",
   "execution_count": null,
   "metadata": {},
   "outputs": [],
   "source": [
    "model_10.save('saved_model\\\\4x5mix_8mil_Relu')"
   ]
  },
  {
   "cell_type": "code",
   "execution_count": null,
   "metadata": {},
   "outputs": [],
   "source": []
  }
 ]
}